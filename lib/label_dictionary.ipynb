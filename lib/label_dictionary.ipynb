{
 "cells": [
  {
   "cell_type": "code",
   "execution_count": 1,
   "metadata": {},
   "outputs": [],
   "source": [
    "import json\n",
    "import os"
   ]
  },
  {
   "cell_type": "code",
   "execution_count": 2,
   "metadata": {},
   "outputs": [],
   "source": [
    "def get_all_subfolders(path=None):\n",
    "    if path:\n",
    "        return [f.path for f in os.scandir(path) if f.is_dir()]\n",
    "    return None"
   ]
  },
  {
   "cell_type": "code",
   "execution_count": 3,
   "metadata": {},
   "outputs": [],
   "source": [
    "def build_direct_and_reversed_dictionary(path):\n",
    "    labels = [os.path.basename(x) for x in get_all_subfolders(path)]\n",
    "    direct = {x: counter for counter, x in enumerate(labels)}\n",
    "    inverse = {counter: x for counter, x in enumerate(labels)}\n",
    "    return direct, inverse"
   ]
  },
  {
   "cell_type": "code",
   "execution_count": 4,
   "metadata": {},
   "outputs": [
    {
     "name": "stdout",
     "output_type": "stream",
     "text": [
      "Ghi file JSON thành công!\n"
     ]
    }
   ],
   "source": [
    "if __name__ == '__main__':\n",
    "    # Giả sử bạn đã có hai từ điển `direct` và `inverse` chứa tên nông sản\n",
    "    direct, inverse = build_direct_and_reversed_dictionary(\"../Dataset/Train\")\n",
    "    \n",
    "    # Đảm bảo thư mục lưu file JSON tồn tại\n",
    "    os.makedirs(\"json\", exist_ok=True)\n",
    "    \n",
    "    # Ghi file JSON mà không mã hóa ký tự tiếng Việt\n",
    "    with open(\"json/label_to_number_dict.json\", \"w+\", encoding=\"utf-8\") as o_file:\n",
    "        json.dump(direct, o_file, ensure_ascii=False, indent=4)  # `ensure_ascii=False` để giữ nguyên tiếng Việt\n",
    "    \n",
    "    with open(\"json/number_to_label_dict.json\", \"w+\", encoding=\"utf-8\") as o_file:\n",
    "        json.dump(inverse, o_file, ensure_ascii=False, indent=4)\n",
    "    \n",
    "    print(\"Ghi file JSON thành công!\")"
   ]
  }
 ],
 "metadata": {
  "kernelspec": {
   "display_name": "project_venv",
   "language": "python",
   "name": "python3"
  },
  "language_info": {
   "codemirror_mode": {
    "name": "ipython",
    "version": 3
   },
   "file_extension": ".py",
   "mimetype": "text/x-python",
   "name": "python",
   "nbconvert_exporter": "python",
   "pygments_lexer": "ipython3",
   "version": "3.11.9"
  }
 },
 "nbformat": 4,
 "nbformat_minor": 2
}
