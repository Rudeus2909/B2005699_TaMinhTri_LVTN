{
 "cells": [
  {
   "cell_type": "code",
   "execution_count": 1,
   "metadata": {},
   "outputs": [],
   "source": [
    "import os\n",
    "import shutil\n",
    "import numpy as np\n",
    "import pandas as pd\n",
    "from sklearn.model_selection import train_test_split\n",
    "import tensorflow as tf\n",
    "from tensorflow import keras\n",
    "from keras._tf_keras.keras.preprocessing.image import ImageDataGenerator\n",
    "from keras._tf_keras.keras.applications import VGG16\n",
    "from keras._tf_keras.keras.applications.vgg16 import preprocess_input\n",
    "from keras._tf_keras.keras.models import Sequential\n",
    "from keras._tf_keras.keras.layers import GlobalAveragePooling2D, Dense, Dropout, BatchNormalization, Input\n",
    "from keras._tf_keras.keras.callbacks import EarlyStopping, ModelCheckpoint\n",
    "from keras._tf_keras.keras.optimizers import Adam\n",
    "from keras._tf_keras.keras.models import load_model\n",
    "import matplotlib.pyplot as plt\n",
    "from keras._tf_keras.keras.preprocessing import image"
   ]
  },
  {
   "cell_type": "code",
   "execution_count": 2,
   "metadata": {},
   "outputs": [],
   "source": [
    "# Các thư mục chứa hình ảnh\n",
    "categories = ['Vú sữa hoàng kim', 'Sơ ri', 'Nha đam', 'Cóc', 'Táo', 'Bơ',\n",
    "              'Chuối', 'Chi thanh mai', 'Ớt chuông', 'Cau', 'Khế tàu', 'Khổ qua rừng', 'Cherry đen', 'Lý chua đen', 'Dâu tằm đen', 'Thị', 'Việt quất', 'Bầu', 'Sa kê',\n",
    "              'Dưa lưới', 'Khế', 'Điều', 'Sắn', 'Mãng cầu', 'Cherry', 'Quýt Clementine', 'Sung', 'Cacao', 'Dừa', 'Cà phê', 'Ngô', 'Dưa leo', 'Nghệ', 'Na',\n",
    "              'Chà là', 'Dâu tằm', 'Thanh long', 'Sầu riêng',\n",
    "              'Cà tím', 'Sổ bà',\n",
    "              'Chanh ngón tay', \n",
    "              'Riềng', 'Sơn trà', 'Gừng', 'Kỷ tử', 'Nho', 'Mãng cầu gai', 'Ổi',\n",
    "              'Táo gai',\n",
    "              'Mít', 'Hồng táo',\n",
    "              'Rau cải xoăn', 'Kiwi', 'Kim quất',\n",
    "              'Bòn bon', 'Chanh', 'Keo dậu', 'Chanh vàng', 'Nhãn', 'Đậu đũa', 'Lêkima', 'Vải',\n",
    "              'Mắcca', 'Xoài', 'Măng cụt', 'Thần kì', 'Nhàu', 'Mãng cầu núi', 'Sim',\n",
    "              'Xuân đào',\n",
    "              'Cam',\n",
    "              'Lúa nước', 'Đu đủ', 'Chanh dây', 'Đậu', 'Lạc', 'Đào', 'Lê', 'Ớt', 'Hồng', 'Dứa', 'Lựu', 'Bưởi', 'Bí ngô',\n",
    "              'Mộc qua',\n",
    "              'Chôm chôm', 'Mâm xôi', 'Mướp', 'Roi',\n",
    "              'Hồng xiêm', 'Đậu nành', 'Rau dền', 'Dâu tây', 'Khoai lang',\n",
    "              'Quýt', 'Thuốc lá', 'Cà chua',\n",
    "              'Vani',\n",
    "              'Dưa hấu', 'Hồng sâm',\n",
    "              'Bí ngòi']"
   ]
  },
  {
   "cell_type": "code",
   "execution_count": 3,
   "metadata": {},
   "outputs": [
    {
     "name": "stdout",
     "output_type": "stream",
     "text": [
      "Found 99669 images belonging to 100 classes.\n",
      "Found 12459 images belonging to 100 classes.\n",
      "Found 12459 images belonging to 100 classes.\n"
     ]
    }
   ],
   "source": [
    "# Define the data augmentation parameters for training\n",
    "train_datagen = ImageDataGenerator(\n",
    "    preprocessing_function=preprocess_input,\n",
    "    rotation_range=10,\n",
    "    zoom_range=0.2,\n",
    "    horizontal_flip=True,\n",
    "    fill_mode='nearest'\n",
    ")\n",
    "\n",
    "# Define only rescaling for validation and test\n",
    "valid_test_datagen = ImageDataGenerator(preprocessing_function=preprocess_input)\n",
    "\n",
    "# Set up the directory structure\n",
    "directory = r'D:\\Graduation\\Project\\Dataset'\n",
    "training_dir = r'D:\\Graduation\\Project\\Dataset\\Train'\n",
    "validation_dir = r'D:\\Graduation\\Project\\Dataset\\Validation'\n",
    "test_dir = r'D:\\Graduation\\Project\\Dataset\\Test'\n",
    "\n",
    "img_height = 224\n",
    "img_width = 224\n",
    "batch_size = 50\n",
    "\n",
    "# Create generators for train, validation and test data\n",
    "train_generator = train_datagen.flow_from_directory(\n",
    "    training_dir,\n",
    "    target_size=(img_height, img_width),\n",
    "    batch_size=batch_size,\n",
    "    class_mode='categorical'\n",
    ")\n",
    "\n",
    "validation_generator = valid_test_datagen.flow_from_directory(\n",
    "    validation_dir,\n",
    "    target_size=(img_height, img_width),\n",
    "    batch_size=batch_size,\n",
    "    class_mode='categorical',\n",
    "    shuffle=False\n",
    ")\n",
    "\n",
    "test_generator = valid_test_datagen.flow_from_directory(\n",
    "    test_dir,\n",
    "    target_size=(img_height, img_width),\n",
    "    batch_size=batch_size,\n",
    "    class_mode='categorical',\n",
    "    shuffle=False\n",
    ")"
   ]
  },
  {
   "cell_type": "code",
   "execution_count": 4,
   "metadata": {},
   "outputs": [],
   "source": [
    "# Define callbacks\n",
    "early_stopping_callback = EarlyStopping(monitor='val_loss', patience=10, restore_best_weights=True)\n",
    "checkpoint_callback = ModelCheckpoint('model_weights.keras', monitor='val_accuracy', save_best_only=True)"
   ]
  },
  {
   "cell_type": "code",
   "execution_count": 5,
   "metadata": {},
   "outputs": [
    {
     "name": "stdout",
     "output_type": "stream",
     "text": [
      "Downloading data from https://storage.googleapis.com/tensorflow/keras-applications/vgg16/vgg16_weights_tf_dim_ordering_tf_kernels_notop.h5\n",
      "\u001b[1m58889256/58889256\u001b[0m \u001b[32m━━━━━━━━━━━━━━━━━━━━\u001b[0m\u001b[37m\u001b[0m \u001b[1m4s\u001b[0m 0us/step\n"
     ]
    }
   ],
   "source": [
    "# Load ResNet50 pre-trained model, exclude the top classification layer\n",
    "base_model = VGG16(weights='imagenet', include_top=False, input_shape=(img_height, img_width, 3))\n",
    "\n",
    "# Freeze the base model layers để giữ nguyên trọng số đã được huấn luyện\n",
    "base_model.trainable = False"
   ]
  },
  {
   "cell_type": "code",
   "execution_count": 6,
   "metadata": {},
   "outputs": [
    {
     "data": {
      "text/html": [
       "<pre style=\"white-space:pre;overflow-x:auto;line-height:normal;font-family:Menlo,'DejaVu Sans Mono',consolas,'Courier New',monospace\"><span style=\"font-weight: bold\">Model: \"sequential\"</span>\n",
       "</pre>\n"
      ],
      "text/plain": [
       "\u001b[1mModel: \"sequential\"\u001b[0m\n"
      ]
     },
     "metadata": {},
     "output_type": "display_data"
    },
    {
     "data": {
      "text/html": [
       "<pre style=\"white-space:pre;overflow-x:auto;line-height:normal;font-family:Menlo,'DejaVu Sans Mono',consolas,'Courier New',monospace\">┏━━━━━━━━━━━━━━━━━━━━━━━━━━━━━━━━━┳━━━━━━━━━━━━━━━━━━━━━━━━┳━━━━━━━━━━━━━━━┓\n",
       "┃<span style=\"font-weight: bold\"> Layer (type)                    </span>┃<span style=\"font-weight: bold\"> Output Shape           </span>┃<span style=\"font-weight: bold\">       Param # </span>┃\n",
       "┡━━━━━━━━━━━━━━━━━━━━━━━━━━━━━━━━━╇━━━━━━━━━━━━━━━━━━━━━━━━╇━━━━━━━━━━━━━━━┩\n",
       "│ vgg16 (<span style=\"color: #0087ff; text-decoration-color: #0087ff\">Functional</span>)              │ (<span style=\"color: #00d7ff; text-decoration-color: #00d7ff\">None</span>, <span style=\"color: #00af00; text-decoration-color: #00af00\">7</span>, <span style=\"color: #00af00; text-decoration-color: #00af00\">7</span>, <span style=\"color: #00af00; text-decoration-color: #00af00\">512</span>)      │    <span style=\"color: #00af00; text-decoration-color: #00af00\">14,714,688</span> │\n",
       "├─────────────────────────────────┼────────────────────────┼───────────────┤\n",
       "│ global_average_pooling2d        │ (<span style=\"color: #00d7ff; text-decoration-color: #00d7ff\">None</span>, <span style=\"color: #00af00; text-decoration-color: #00af00\">512</span>)            │             <span style=\"color: #00af00; text-decoration-color: #00af00\">0</span> │\n",
       "│ (<span style=\"color: #0087ff; text-decoration-color: #0087ff\">GlobalAveragePooling2D</span>)        │                        │               │\n",
       "├─────────────────────────────────┼────────────────────────┼───────────────┤\n",
       "│ dense (<span style=\"color: #0087ff; text-decoration-color: #0087ff\">Dense</span>)                   │ (<span style=\"color: #00d7ff; text-decoration-color: #00d7ff\">None</span>, <span style=\"color: #00af00; text-decoration-color: #00af00\">512</span>)            │       <span style=\"color: #00af00; text-decoration-color: #00af00\">262,656</span> │\n",
       "├─────────────────────────────────┼────────────────────────┼───────────────┤\n",
       "│ batch_normalization             │ (<span style=\"color: #00d7ff; text-decoration-color: #00d7ff\">None</span>, <span style=\"color: #00af00; text-decoration-color: #00af00\">512</span>)            │         <span style=\"color: #00af00; text-decoration-color: #00af00\">2,048</span> │\n",
       "│ (<span style=\"color: #0087ff; text-decoration-color: #0087ff\">BatchNormalization</span>)            │                        │               │\n",
       "├─────────────────────────────────┼────────────────────────┼───────────────┤\n",
       "│ dropout (<span style=\"color: #0087ff; text-decoration-color: #0087ff\">Dropout</span>)               │ (<span style=\"color: #00d7ff; text-decoration-color: #00d7ff\">None</span>, <span style=\"color: #00af00; text-decoration-color: #00af00\">512</span>)            │             <span style=\"color: #00af00; text-decoration-color: #00af00\">0</span> │\n",
       "├─────────────────────────────────┼────────────────────────┼───────────────┤\n",
       "│ dense_1 (<span style=\"color: #0087ff; text-decoration-color: #0087ff\">Dense</span>)                 │ (<span style=\"color: #00d7ff; text-decoration-color: #00d7ff\">None</span>, <span style=\"color: #00af00; text-decoration-color: #00af00\">256</span>)            │       <span style=\"color: #00af00; text-decoration-color: #00af00\">131,328</span> │\n",
       "├─────────────────────────────────┼────────────────────────┼───────────────┤\n",
       "│ batch_normalization_1           │ (<span style=\"color: #00d7ff; text-decoration-color: #00d7ff\">None</span>, <span style=\"color: #00af00; text-decoration-color: #00af00\">256</span>)            │         <span style=\"color: #00af00; text-decoration-color: #00af00\">1,024</span> │\n",
       "│ (<span style=\"color: #0087ff; text-decoration-color: #0087ff\">BatchNormalization</span>)            │                        │               │\n",
       "├─────────────────────────────────┼────────────────────────┼───────────────┤\n",
       "│ dropout_1 (<span style=\"color: #0087ff; text-decoration-color: #0087ff\">Dropout</span>)             │ (<span style=\"color: #00d7ff; text-decoration-color: #00d7ff\">None</span>, <span style=\"color: #00af00; text-decoration-color: #00af00\">256</span>)            │             <span style=\"color: #00af00; text-decoration-color: #00af00\">0</span> │\n",
       "├─────────────────────────────────┼────────────────────────┼───────────────┤\n",
       "│ dense_2 (<span style=\"color: #0087ff; text-decoration-color: #0087ff\">Dense</span>)                 │ (<span style=\"color: #00d7ff; text-decoration-color: #00d7ff\">None</span>, <span style=\"color: #00af00; text-decoration-color: #00af00\">128</span>)            │        <span style=\"color: #00af00; text-decoration-color: #00af00\">32,896</span> │\n",
       "├─────────────────────────────────┼────────────────────────┼───────────────┤\n",
       "│ batch_normalization_2           │ (<span style=\"color: #00d7ff; text-decoration-color: #00d7ff\">None</span>, <span style=\"color: #00af00; text-decoration-color: #00af00\">128</span>)            │           <span style=\"color: #00af00; text-decoration-color: #00af00\">512</span> │\n",
       "│ (<span style=\"color: #0087ff; text-decoration-color: #0087ff\">BatchNormalization</span>)            │                        │               │\n",
       "├─────────────────────────────────┼────────────────────────┼───────────────┤\n",
       "│ dropout_2 (<span style=\"color: #0087ff; text-decoration-color: #0087ff\">Dropout</span>)             │ (<span style=\"color: #00d7ff; text-decoration-color: #00d7ff\">None</span>, <span style=\"color: #00af00; text-decoration-color: #00af00\">128</span>)            │             <span style=\"color: #00af00; text-decoration-color: #00af00\">0</span> │\n",
       "├─────────────────────────────────┼────────────────────────┼───────────────┤\n",
       "│ dense_3 (<span style=\"color: #0087ff; text-decoration-color: #0087ff\">Dense</span>)                 │ (<span style=\"color: #00d7ff; text-decoration-color: #00d7ff\">None</span>, <span style=\"color: #00af00; text-decoration-color: #00af00\">100</span>)            │        <span style=\"color: #00af00; text-decoration-color: #00af00\">12,900</span> │\n",
       "└─────────────────────────────────┴────────────────────────┴───────────────┘\n",
       "</pre>\n"
      ],
      "text/plain": [
       "┏━━━━━━━━━━━━━━━━━━━━━━━━━━━━━━━━━┳━━━━━━━━━━━━━━━━━━━━━━━━┳━━━━━━━━━━━━━━━┓\n",
       "┃\u001b[1m \u001b[0m\u001b[1mLayer (type)                   \u001b[0m\u001b[1m \u001b[0m┃\u001b[1m \u001b[0m\u001b[1mOutput Shape          \u001b[0m\u001b[1m \u001b[0m┃\u001b[1m \u001b[0m\u001b[1m      Param #\u001b[0m\u001b[1m \u001b[0m┃\n",
       "┡━━━━━━━━━━━━━━━━━━━━━━━━━━━━━━━━━╇━━━━━━━━━━━━━━━━━━━━━━━━╇━━━━━━━━━━━━━━━┩\n",
       "│ vgg16 (\u001b[38;5;33mFunctional\u001b[0m)              │ (\u001b[38;5;45mNone\u001b[0m, \u001b[38;5;34m7\u001b[0m, \u001b[38;5;34m7\u001b[0m, \u001b[38;5;34m512\u001b[0m)      │    \u001b[38;5;34m14,714,688\u001b[0m │\n",
       "├─────────────────────────────────┼────────────────────────┼───────────────┤\n",
       "│ global_average_pooling2d        │ (\u001b[38;5;45mNone\u001b[0m, \u001b[38;5;34m512\u001b[0m)            │             \u001b[38;5;34m0\u001b[0m │\n",
       "│ (\u001b[38;5;33mGlobalAveragePooling2D\u001b[0m)        │                        │               │\n",
       "├─────────────────────────────────┼────────────────────────┼───────────────┤\n",
       "│ dense (\u001b[38;5;33mDense\u001b[0m)                   │ (\u001b[38;5;45mNone\u001b[0m, \u001b[38;5;34m512\u001b[0m)            │       \u001b[38;5;34m262,656\u001b[0m │\n",
       "├─────────────────────────────────┼────────────────────────┼───────────────┤\n",
       "│ batch_normalization             │ (\u001b[38;5;45mNone\u001b[0m, \u001b[38;5;34m512\u001b[0m)            │         \u001b[38;5;34m2,048\u001b[0m │\n",
       "│ (\u001b[38;5;33mBatchNormalization\u001b[0m)            │                        │               │\n",
       "├─────────────────────────────────┼────────────────────────┼───────────────┤\n",
       "│ dropout (\u001b[38;5;33mDropout\u001b[0m)               │ (\u001b[38;5;45mNone\u001b[0m, \u001b[38;5;34m512\u001b[0m)            │             \u001b[38;5;34m0\u001b[0m │\n",
       "├─────────────────────────────────┼────────────────────────┼───────────────┤\n",
       "│ dense_1 (\u001b[38;5;33mDense\u001b[0m)                 │ (\u001b[38;5;45mNone\u001b[0m, \u001b[38;5;34m256\u001b[0m)            │       \u001b[38;5;34m131,328\u001b[0m │\n",
       "├─────────────────────────────────┼────────────────────────┼───────────────┤\n",
       "│ batch_normalization_1           │ (\u001b[38;5;45mNone\u001b[0m, \u001b[38;5;34m256\u001b[0m)            │         \u001b[38;5;34m1,024\u001b[0m │\n",
       "│ (\u001b[38;5;33mBatchNormalization\u001b[0m)            │                        │               │\n",
       "├─────────────────────────────────┼────────────────────────┼───────────────┤\n",
       "│ dropout_1 (\u001b[38;5;33mDropout\u001b[0m)             │ (\u001b[38;5;45mNone\u001b[0m, \u001b[38;5;34m256\u001b[0m)            │             \u001b[38;5;34m0\u001b[0m │\n",
       "├─────────────────────────────────┼────────────────────────┼───────────────┤\n",
       "│ dense_2 (\u001b[38;5;33mDense\u001b[0m)                 │ (\u001b[38;5;45mNone\u001b[0m, \u001b[38;5;34m128\u001b[0m)            │        \u001b[38;5;34m32,896\u001b[0m │\n",
       "├─────────────────────────────────┼────────────────────────┼───────────────┤\n",
       "│ batch_normalization_2           │ (\u001b[38;5;45mNone\u001b[0m, \u001b[38;5;34m128\u001b[0m)            │           \u001b[38;5;34m512\u001b[0m │\n",
       "│ (\u001b[38;5;33mBatchNormalization\u001b[0m)            │                        │               │\n",
       "├─────────────────────────────────┼────────────────────────┼───────────────┤\n",
       "│ dropout_2 (\u001b[38;5;33mDropout\u001b[0m)             │ (\u001b[38;5;45mNone\u001b[0m, \u001b[38;5;34m128\u001b[0m)            │             \u001b[38;5;34m0\u001b[0m │\n",
       "├─────────────────────────────────┼────────────────────────┼───────────────┤\n",
       "│ dense_3 (\u001b[38;5;33mDense\u001b[0m)                 │ (\u001b[38;5;45mNone\u001b[0m, \u001b[38;5;34m100\u001b[0m)            │        \u001b[38;5;34m12,900\u001b[0m │\n",
       "└─────────────────────────────────┴────────────────────────┴───────────────┘\n"
      ]
     },
     "metadata": {},
     "output_type": "display_data"
    },
    {
     "data": {
      "text/html": [
       "<pre style=\"white-space:pre;overflow-x:auto;line-height:normal;font-family:Menlo,'DejaVu Sans Mono',consolas,'Courier New',monospace\"><span style=\"font-weight: bold\"> Total params: </span><span style=\"color: #00af00; text-decoration-color: #00af00\">15,158,052</span> (57.82 MB)\n",
       "</pre>\n"
      ],
      "text/plain": [
       "\u001b[1m Total params: \u001b[0m\u001b[38;5;34m15,158,052\u001b[0m (57.82 MB)\n"
      ]
     },
     "metadata": {},
     "output_type": "display_data"
    },
    {
     "data": {
      "text/html": [
       "<pre style=\"white-space:pre;overflow-x:auto;line-height:normal;font-family:Menlo,'DejaVu Sans Mono',consolas,'Courier New',monospace\"><span style=\"font-weight: bold\"> Trainable params: </span><span style=\"color: #00af00; text-decoration-color: #00af00\">441,572</span> (1.68 MB)\n",
       "</pre>\n"
      ],
      "text/plain": [
       "\u001b[1m Trainable params: \u001b[0m\u001b[38;5;34m441,572\u001b[0m (1.68 MB)\n"
      ]
     },
     "metadata": {},
     "output_type": "display_data"
    },
    {
     "data": {
      "text/html": [
       "<pre style=\"white-space:pre;overflow-x:auto;line-height:normal;font-family:Menlo,'DejaVu Sans Mono',consolas,'Courier New',monospace\"><span style=\"font-weight: bold\"> Non-trainable params: </span><span style=\"color: #00af00; text-decoration-color: #00af00\">14,716,480</span> (56.14 MB)\n",
       "</pre>\n"
      ],
      "text/plain": [
       "\u001b[1m Non-trainable params: \u001b[0m\u001b[38;5;34m14,716,480\u001b[0m (56.14 MB)\n"
      ]
     },
     "metadata": {},
     "output_type": "display_data"
    }
   ],
   "source": [
    "# Create the new model\n",
    "model = Sequential()\n",
    "\n",
    "# Add the base model\n",
    "model.add(base_model)\n",
    "\n",
    "# Add custom layers for fine-tuning\n",
    "model.add(GlobalAveragePooling2D())  # Tính trung bình toàn bộ không gian thay vì Flatten\n",
    "model.add(Dense(512, activation='relu'))\n",
    "model.add(BatchNormalization())\n",
    "model.add(Dropout(0.6))\n",
    "\n",
    "model.add(Dense(256, activation='relu'))\n",
    "model.add(BatchNormalization())\n",
    "model.add(Dropout(0.4))\n",
    "\n",
    "model.add(Dense(128, activation='relu'))\n",
    "model.add(BatchNormalization())\n",
    "model.add(Dropout(0.3))\n",
    "\n",
    "# Output layer for classification with softmax activation\n",
    "num_classes = len(train_generator.class_indices)\n",
    "model.add(Dense(num_classes, activation='softmax'))\n",
    "\n",
    "# Compile the model\n",
    "opt = Adam(learning_rate=1e-4)\n",
    "model.compile(optimizer=opt, loss='categorical_crossentropy', metrics=['accuracy'])\n",
    "\n",
    "# Model summary\n",
    "model.summary()"
   ]
  },
  {
   "cell_type": "code",
   "execution_count": 5,
   "metadata": {},
   "outputs": [],
   "source": [
    "model = load_model('D:\\Graduation\\Project\\check_point\\VGG16_model_20e.keras')"
   ]
  },
  {
   "cell_type": "code",
   "execution_count": 6,
   "metadata": {},
   "outputs": [
    {
     "name": "stderr",
     "output_type": "stream",
     "text": [
      "d:\\Graduation\\Project\\project_venv\\Lib\\site-packages\\keras\\src\\trainers\\data_adapters\\py_dataset_adapter.py:121: UserWarning: Your `PyDataset` class should call `super().__init__(**kwargs)` in its constructor. `**kwargs` can include `workers`, `use_multiprocessing`, `max_queue_size`. Do not pass these arguments to `fit()`, as they will be ignored.\n",
      "  self._warn_if_super_not_called()\n"
     ]
    },
    {
     "name": "stdout",
     "output_type": "stream",
     "text": [
      "Epoch 1/10\n",
      "\u001b[1m1993/1993\u001b[0m \u001b[32m━━━━━━━━━━━━━━━━━━━━\u001b[0m\u001b[37m\u001b[0m \u001b[1m9381s\u001b[0m 5s/step - accuracy: 0.5078 - loss: 1.8078 - val_accuracy: 0.6620 - val_loss: 1.1936\n",
      "Epoch 2/10\n",
      "\u001b[1m   1/1993\u001b[0m \u001b[37m━━━━━━━━━━━━━━━━━━━━\u001b[0m \u001b[1m2:14:55\u001b[0m 4s/step - accuracy: 0.5800 - loss: 1.6769"
     ]
    },
    {
     "name": "stderr",
     "output_type": "stream",
     "text": [
      "C:\\Users\\LENOVO\\AppData\\Local\\Programs\\Python\\Python311\\Lib\\contextlib.py:158: UserWarning: Your input ran out of data; interrupting training. Make sure that your dataset or generator can generate at least `steps_per_epoch * epochs` batches. You may need to use the `.repeat()` function when building your dataset.\n",
      "  self.gen.throw(typ, value, traceback)\n"
     ]
    },
    {
     "name": "stdout",
     "output_type": "stream",
     "text": [
      "\u001b[1m1993/1993\u001b[0m \u001b[32m━━━━━━━━━━━━━━━━━━━━\u001b[0m\u001b[37m\u001b[0m \u001b[1m5s\u001b[0m 559us/step - accuracy: 0.5800 - loss: 1.6769 - val_accuracy: 0.7778 - val_loss: 0.5533\n",
      "Epoch 3/10\n",
      "\u001b[1m1993/1993\u001b[0m \u001b[32m━━━━━━━━━━━━━━━━━━━━\u001b[0m\u001b[37m\u001b[0m \u001b[1m9283s\u001b[0m 5s/step - accuracy: 0.5262 - loss: 1.7208 - val_accuracy: 0.6749 - val_loss: 1.1394\n",
      "Epoch 4/10\n",
      "\u001b[1m1993/1993\u001b[0m \u001b[32m━━━━━━━━━━━━━━━━━━━━\u001b[0m\u001b[37m\u001b[0m \u001b[1m5s\u001b[0m 384us/step - accuracy: 0.5800 - loss: 1.3647 - val_accuracy: 0.7778 - val_loss: 0.5841\n",
      "Epoch 5/10\n",
      "\u001b[1m1993/1993\u001b[0m \u001b[32m━━━━━━━━━━━━━━━━━━━━\u001b[0m\u001b[37m\u001b[0m \u001b[1m9314s\u001b[0m 5s/step - accuracy: 0.5412 - loss: 1.6640 - val_accuracy: 0.6886 - val_loss: 1.0888\n",
      "Epoch 6/10\n",
      "\u001b[1m1993/1993\u001b[0m \u001b[32m━━━━━━━━━━━━━━━━━━━━\u001b[0m\u001b[37m\u001b[0m \u001b[1m5s\u001b[0m 401us/step - accuracy: 0.5200 - loss: 1.5907 - val_accuracy: 0.7778 - val_loss: 0.6884\n",
      "Epoch 7/10\n",
      "\u001b[1m1993/1993\u001b[0m \u001b[32m━━━━━━━━━━━━━━━━━━━━\u001b[0m\u001b[37m\u001b[0m \u001b[1m9252s\u001b[0m 5s/step - accuracy: 0.5572 - loss: 1.5983 - val_accuracy: 0.6971 - val_loss: 1.0504\n",
      "Epoch 8/10\n",
      "\u001b[1m1993/1993\u001b[0m \u001b[32m━━━━━━━━━━━━━━━━━━━━\u001b[0m\u001b[37m\u001b[0m \u001b[1m5s\u001b[0m 398us/step - accuracy: 0.5800 - loss: 1.3885 - val_accuracy: 0.7778 - val_loss: 0.6903\n",
      "Epoch 9/10\n",
      "\u001b[1m1993/1993\u001b[0m \u001b[32m━━━━━━━━━━━━━━━━━━━━\u001b[0m\u001b[37m\u001b[0m \u001b[1m9246s\u001b[0m 5s/step - accuracy: 0.5684 - loss: 1.5573 - val_accuracy: 0.7049 - val_loss: 1.0209\n",
      "Epoch 10/10\n",
      "\u001b[1m1993/1993\u001b[0m \u001b[32m━━━━━━━━━━━━━━━━━━━━\u001b[0m\u001b[37m\u001b[0m \u001b[1m5s\u001b[0m 390us/step - accuracy: 0.6400 - loss: 1.3397 - val_accuracy: 0.7778 - val_loss: 0.6282\n"
     ]
    }
   ],
   "source": [
    "# Train the model using the generators with callbacks\n",
    "history = model.fit(\n",
    "    train_generator,\n",
    "    steps_per_epoch=train_generator.samples // batch_size,\n",
    "    epochs=10,\n",
    "    validation_data=validation_generator,\n",
    "    validation_steps=validation_generator.samples // batch_size,\n",
    "    callbacks=[early_stopping_callback, checkpoint_callback]\n",
    ")"
   ]
  },
  {
   "cell_type": "code",
   "execution_count": 12,
   "metadata": {},
   "outputs": [
    {
     "name": "stdout",
     "output_type": "stream",
     "text": [
      "\u001b[1m249/249\u001b[0m \u001b[32m━━━━━━━━━━━━━━━━━━━━\u001b[0m\u001b[37m\u001b[0m \u001b[1m1018s\u001b[0m 4s/step - accuracy: 0.0038 - loss: 8.8041\n",
      "Test Loss:  8.965063095092773\n",
      "Test Accuracy:  0.00273092370480299\n"
     ]
    }
   ],
   "source": [
    "# Evaluate the model using the test generator\n",
    "test_evaluation = model.evaluate(\n",
    "    test_generator,\n",
    "    steps=test_generator.samples // batch_size\n",
    ")\n",
    "\n",
    "print(\"Test Loss: \", test_evaluation[0])\n",
    "print(\"Test Accuracy: \", test_evaluation[1])"
   ]
  },
  {
   "cell_type": "code",
   "execution_count": 13,
   "metadata": {},
   "outputs": [
    {
     "name": "stdout",
     "output_type": "stream",
     "text": [
      "\u001b[1m1/1\u001b[0m \u001b[32m━━━━━━━━━━━━━━━━━━━━\u001b[0m\u001b[37m\u001b[0m \u001b[1m0s\u001b[0m 299ms/step\n",
      "Predicted Class:  Ớt chuông\n"
     ]
    },
    {
     "data": {
      "image/png": "[encoded data removed]",
      "text/plain": [
       "<Figure size 640x480 with 1 Axes>"
      ]
     },
     "metadata": {},
     "output_type": "display_data"
    }
   ],
   "source": [
    "# Predict image path\n",
    "image_path = r\"D:\\Graduation\\Project\\FinalDataset\\Training\\bell pepper\\3.jpg\"\n",
    "\n",
    "# Load and preprocess the image\n",
    "img = image.load_img(image_path, target_size=(img_height, img_width))\n",
    "img_array = image.img_to_array(img)\n",
    "img_array = np.expand_dims(img_array, axis=0)\n",
    "img_array = preprocess_input(img_array)\n",
    "\n",
    "# Make the prediction\n",
    "prediction = model.predict(img_array)\n",
    "\n",
    "# Get the predicted class label\n",
    "predicted_class_index = np.argmax(prediction)\n",
    "predicted_class = list(train_generator.class_indices.keys())[predicted_class_index]\n",
    "\n",
    "# Print the predicted class\n",
    "print(\"Predicted Class: \", predicted_class)\n",
    "\n",
    "# Display the image\n",
    "plt.show(img)\n",
    "plt.title(f'Predicted Class: {predicted_class}')\n",
    "plt.show()"
   ]
  },
  {
   "cell_type": "code",
   "execution_count": 5,
   "metadata": {},
   "outputs": [],
   "source": [
    "model = load_model('D:\\Graduation\\Project\\check_point\\VGG16_model_30e.keras')"
   ]
  },
  {
   "cell_type": "code",
   "execution_count": 5,
   "metadata": {},
   "outputs": [
    {
     "name": "stderr",
     "output_type": "stream",
     "text": [
      "d:\\Graduation\\Project\\project_venv\\Lib\\site-packages\\keras\\src\\trainers\\data_adapters\\py_dataset_adapter.py:121: UserWarning: Your `PyDataset` class should call `super().__init__(**kwargs)` in its constructor. `**kwargs` can include `workers`, `use_multiprocessing`, `max_queue_size`. Do not pass these arguments to `fit()`, as they will be ignored.\n",
      "  self._warn_if_super_not_called()\n"
     ]
    },
    {
     "name": "stdout",
     "output_type": "stream",
     "text": [
      "\u001b[1m250/250\u001b[0m \u001b[32m━━━━━━━━━━━━━━━━━━━━\u001b[0m\u001b[37m\u001b[0m \u001b[1m1038s\u001b[0m 4s/step\n",
      "Accuracy: 0.6620113973834176\n",
      "\n",
      "Classification Report:\n",
      "                  precision    recall  f1-score   support\n",
      "\n",
      "         Bí ngòi       0.76      0.79      0.78       101\n",
      "          Bí ngô       0.80      0.77      0.79        48\n",
      "         Bòn bon       0.60      0.75      0.67       102\n",
      "              Bơ       0.66      0.69      0.68       117\n",
      "            Bưởi       0.50      0.63      0.56       282\n",
      "             Bầu       0.54      0.69      0.61       100\n",
      "           Cacao       0.55      0.66      0.60       100\n",
      "             Cam       0.60      0.41      0.49       162\n",
      "             Cau       0.43      0.28      0.34       102\n",
      "           Chanh       0.46      0.43      0.44       101\n",
      "       Chanh dây       0.75      0.65      0.70       164\n",
      "  Chanh ngón tay       0.78      0.68      0.72       102\n",
      "      Chanh vàng       0.68      0.69      0.69       254\n",
      "          Cherry       0.51      0.52      0.52       214\n",
      "      Cherry đen       0.58      0.45      0.51       195\n",
      "   Chi thanh mai       0.72      0.77      0.74       100\n",
      "           Chuối       0.88      0.89      0.88        80\n",
      "          Chà là       0.61      0.77      0.68       100\n",
      "       Chôm chôm       0.89      0.87      0.88       212\n",
      "         Cà chua       0.77      0.75      0.76       100\n",
      "          Cà phê       0.65      0.34      0.45       100\n",
      "          Cà tím       0.88      0.89      0.88       181\n",
      "             Cóc       0.39      0.50      0.44       109\n",
      "         Dâu tây       0.87      0.91      0.89       152\n",
      "         Dâu tằm       0.67      0.73      0.70       266\n",
      "     Dâu tằm đen       0.77      0.32      0.46       102\n",
      "         Dưa hấu       0.89      0.89      0.89       100\n",
      "         Dưa leo       0.76      0.66      0.71        80\n",
      "        Dưa lưới       0.87      0.86      0.86       319\n",
      "             Dứa       0.96      0.95      0.95       184\n",
      "             Dừa       0.66      0.69      0.67       102\n",
      "            Gừng       0.73      0.68      0.70        80\n",
      "            Hồng       0.66      0.62      0.64       195\n",
      "        Hồng sâm       0.28      0.24      0.26       100\n",
      "        Hồng táo       0.36      0.27      0.31       128\n",
      "       Hồng xiêm       0.58      0.83      0.69       204\n",
      "         Keo dậu       0.54      0.60      0.57        55\n",
      "      Khoai lang       0.87      0.74      0.80        80\n",
      "             Khế       0.74      0.69      0.72       100\n",
      "         Khế tàu       0.55      0.71      0.62       101\n",
      "    Khổ qua rừng       0.81      0.81      0.81       108\n",
      "        Kim quất       0.55      0.30      0.39       105\n",
      "            Kiwi       0.77      0.55      0.64       101\n",
      "           Kỷ tử       0.83      0.44      0.57        66\n",
      "              Lê       0.69      0.69      0.69       202\n",
      "          Lêkima       0.61      0.36      0.45       101\n",
      "        Lúa nước       0.74      0.76      0.75        70\n",
      "     Lý chua đen       0.59      0.85      0.70       201\n",
      "             Lạc       0.70      0.79      0.75        87\n",
      "             Lựu       0.56      0.69      0.62       101\n",
      "         Mâm xôi       0.72      0.80      0.76       225\n",
      "        Mãng cầu       0.66      0.24      0.35       103\n",
      "    Mãng cầu gai       0.70      0.67      0.69       101\n",
      "    Mãng cầu núi       0.51      0.34      0.41       103\n",
      "             Mít       0.75      0.92      0.83       103\n",
      "        Măng cụt       0.57      0.67      0.61       213\n",
      "            Mướp       0.70      0.63      0.66       101\n",
      "           Mắcca       0.42      0.32      0.36       100\n",
      "         Mộc qua       0.46      0.47      0.46       105\n",
      "              Na       0.62      0.83      0.71       218\n",
      "            Nghệ       0.87      0.81      0.84        80\n",
      "             Ngô       0.90      0.80      0.85       102\n",
      "         Nha đam       0.72      0.69      0.71        80\n",
      "             Nho       0.55      0.41      0.47       104\n",
      "            Nhàu       0.81      0.89      0.85       109\n",
      "            Nhãn       0.66      0.64      0.65       102\n",
      "            Quýt       0.37      0.71      0.49       220\n",
      " Quýt Clementine       0.67      0.06      0.11       101\n",
      "    Rau cải xoăn       0.64      0.89      0.74        80\n",
      "         Rau dền       0.80      0.74      0.77        80\n",
      "           Riềng       0.76      0.81      0.78        80\n",
      "             Roi       0.70      0.83      0.76       285\n",
      "           Sa kê       0.70      0.63      0.66       100\n",
      "             Sim       0.83      0.10      0.18        51\n",
      "            Sung       0.61      0.77      0.68       295\n",
      "           Sơ ri       0.53      0.31      0.39       100\n",
      "         Sơn trà       0.53      0.49      0.51       101\n",
      "       Sầu riêng       0.84      0.90      0.87       102\n",
      "             Sắn       0.80      0.90      0.85        80\n",
      "           Sổ bà       0.46      0.38      0.42        63\n",
      "      Thanh long       0.93      0.79      0.85       104\n",
      "        Thuốc lá       0.78      0.76      0.77        80\n",
      "         Thần kì       0.53      0.47      0.50        92\n",
      "             Thị       0.59      0.70      0.64       101\n",
      "             Táo       0.61      0.61      0.61       121\n",
      "         Táo gai       0.38      0.63      0.47       102\n",
      "            Vani       0.84      0.77      0.80       100\n",
      "       Việt quất       0.54      0.69      0.61       100\n",
      "Vú sữa hoàng kim       0.49      0.61      0.54       100\n",
      "             Vải       0.74      0.37      0.49       101\n",
      "            Xoài       0.58      0.37      0.45       183\n",
      "        Xuân đào       0.00      0.00      0.00        25\n",
      "            Điều       0.73      0.52      0.61       102\n",
      "           Đu đủ       0.86      0.69      0.77       183\n",
      "             Đậu       0.76      0.92      0.83       140\n",
      "        Đậu nành       0.85      0.66      0.75        80\n",
      "         Đậu đũa       0.89      0.62      0.74        80\n",
      "              Ổi       0.75      0.73      0.74       182\n",
      "              Ớt       0.87      0.74      0.80        80\n",
      "       Ớt chuông       0.87      0.91      0.89       100\n",
      "\n",
      "        accuracy                           0.66     12459\n",
      "       macro avg       0.67      0.64      0.64     12459\n",
      "    weighted avg       0.67      0.66      0.65     12459\n",
      "\n"
     ]
    },
    {
     "name": "stderr",
     "output_type": "stream",
     "text": [
      "d:\\Graduation\\Project\\project_venv\\Lib\\site-packages\\sklearn\\metrics\\_classification.py:1531: UndefinedMetricWarning: Precision is ill-defined and being set to 0.0 in labels with no predicted samples. Use `zero_division` parameter to control this behavior.\n",
      "  _warn_prf(average, modifier, f\"{metric.capitalize()} is\", len(result))\n",
      "d:\\Graduation\\Project\\project_venv\\Lib\\site-packages\\sklearn\\metrics\\_classification.py:1531: UndefinedMetricWarning: Precision is ill-defined and being set to 0.0 in labels with no predicted samples. Use `zero_division` parameter to control this behavior.\n",
      "  _warn_prf(average, modifier, f\"{metric.capitalize()} is\", len(result))\n",
      "d:\\Graduation\\Project\\project_venv\\Lib\\site-packages\\sklearn\\metrics\\_classification.py:1531: UndefinedMetricWarning: Precision is ill-defined and being set to 0.0 in labels with no predicted samples. Use `zero_division` parameter to control this behavior.\n",
      "  _warn_prf(average, modifier, f\"{metric.capitalize()} is\", len(result))\n"
     ]
    }
   ],
   "source": [
    "from sklearn.metrics import classification_report, accuracy_score\n",
    "\n",
    "# Bước 1: Lấy nhãn thực tế và dự đoán\n",
    "validation_generator.reset()  # Đảm bảo thứ tự dự đoán đúng với dữ liệu\n",
    "y_true = validation_generator.classes  # Lấy nhãn thực tế\n",
    "y_pred_prob = model.predict(validation_generator, steps=validation_generator.samples // batch_size + 1)\n",
    "y_pred = y_pred_prob.argmax(axis=1)  # Lấy nhãn dự đoán\n",
    "\n",
    "# Bước 2: Tính các giá trị đánh giá\n",
    "accuracy = accuracy_score(y_true, y_pred)\n",
    "report = classification_report(y_true, y_pred, target_names=validation_generator.class_indices.keys())\n",
    "\n",
    "# In kết quả\n",
    "print(f\"Accuracy: {accuracy}\")\n",
    "print(\"\\nClassification Report:\")\n",
    "print(report)"
   ]
  },
  {
   "cell_type": "code",
   "execution_count": 7,
   "metadata": {},
   "outputs": [
    {
     "name": "stdout",
     "output_type": "stream",
     "text": [
      "\u001b[1m250/250\u001b[0m \u001b[32m━━━━━━━━━━━━━━━━━━━━\u001b[0m\u001b[37m\u001b[0m \u001b[1m1047s\u001b[0m 4s/step\n",
      "Accuracy: 0.6620113973834176\n",
      "Precision: 0.6709739060630775\n",
      "Recall: 0.6620113973834176\n",
      "F1: 0.6536970015861642\n"
     ]
    },
    {
     "name": "stderr",
     "output_type": "stream",
     "text": [
      "d:\\Graduation\\Project\\project_venv\\Lib\\site-packages\\sklearn\\metrics\\_classification.py:1531: UndefinedMetricWarning: Precision is ill-defined and being set to 0.0 in labels with no predicted samples. Use `zero_division` parameter to control this behavior.\n",
      "  _warn_prf(average, modifier, f\"{metric.capitalize()} is\", len(result))\n"
     ]
    }
   ],
   "source": [
    "from sklearn.metrics import precision_score, recall_score, f1_score, accuracy_score\n",
    "\n",
    "# Bước 1: Lấy nhãn thực tế và dự đoán\n",
    "validation_generator.reset()  # Đảm bảo thứ tự dự đoán đúng với dữ liệu\n",
    "y_true = validation_generator.classes  # Lấy nhãn thực tế\n",
    "y_pred_prob = model.predict(validation_generator, steps=validation_generator.samples // batch_size + 1)\n",
    "y_pred = y_pred_prob.argmax(axis=1)  # Lấy nhãn dự đoán\n",
    "\n",
    "# Bước 2: Tính các giá trị đánh giá\n",
    "accuracy = accuracy_score(y_true, y_pred)\n",
    "precision = precision_score(y_true, y_pred, average='weighted')\n",
    "recall = recall_score(y_true, y_pred, average='weighted')\n",
    "f1 = f1_score(y_true, y_pred, average='weighted')\n",
    "\n",
    "# In kết quả\n",
    "print(f\"Accuracy: {accuracy}\")\n",
    "print(f\"Precision: {precision}\")\n",
    "print(f\"Recall: {recall}\")\n",
    "print(f\"F1: {f1}\")"
   ]
  }
 ],
 "metadata": {
  "kernelspec": {
   "display_name": "project_venv",
   "language": "python",
   "name": "python3"
  },
  "language_info": {
   "codemirror_mode": {
    "name": "ipython",
    "version": 3
   },
   "file_extension": ".py",
   "mimetype": "text/x-python",
   "name": "python",
   "nbconvert_exporter": "python",
   "pygments_lexer": "ipython3",
   "version": "3.11.9"
  }
 },
 "nbformat": 4,
 "nbformat_minor": 2
}
