{
 "cells": [
  {
   "cell_type": "code",
   "execution_count": 1,
   "metadata": {},
   "outputs": [],
   "source": [
    "import os\n",
    "import random\n",
    "import numpy as np\n",
    "import shutil\n",
    "import pandas as pd\n",
    "from sklearn.model_selection import train_test_split\n",
    "import tensorflow as tf\n",
    "from tensorflow import keras\n",
    "from keras._tf_keras.keras.preprocessing.image import ImageDataGenerator\n",
    "from keras._tf_keras.keras.applications.vgg16 import preprocess_input\n",
    "from keras._tf_keras.keras.models import Sequential\n",
    "from keras._tf_keras.keras.layers import Flatten, Dense, Dropout, BatchNormalization, MaxPooling2D, Conv2D, Input\n",
    "from keras._tf_keras.keras.callbacks import EarlyStopping, ModelCheckpoint\n",
    "from keras._tf_keras.keras.optimizers import Adam\n",
    "from keras._tf_keras.keras.models import load_model\n",
    "import matplotlib.pyplot as plt\n",
    "from keras._tf_keras.keras.preprocessing import image"
   ]
  },
  {
   "cell_type": "code",
   "execution_count": 2,
   "metadata": {},
   "outputs": [],
   "source": [
    "# # Main directory\n",
    "# main_directory = r'D:\\Graduation\\Project\\FinalDataset\\Training/'\n",
    "\n",
    "# Categories\n",
    "categories = ['Vú sữa hoàng kim', 'Sơ ri', 'Nha đam', 'Cóc', 'Táo', 'Bơ',\n",
    "              'Chuối', 'Chi thanh mai', 'Ớt chuông', 'Cau', 'Khế tàu', 'Khổ qua rừng', 'Cherry đen', 'Lý chua đen', 'Dâu tằm đen', 'Thị', 'Việt quất', 'Bầu', 'Sa kê',\n",
    "              'Dưa lưới', 'Khế', 'Điều', 'Sắn', 'Mãng cầu', 'Cherry', 'Quýt Clementine', 'Sung', 'Cacao', 'Dừa', 'Cà phê', 'Ngô', 'Dưa leo', 'Nghệ', 'Na',\n",
    "              'Chà là', 'Dâu tằm', 'Thanh long', 'Sầu riêng',\n",
    "              'Cà tím', 'Sổ bà',\n",
    "              'Chanh ngón tay', \n",
    "              'Riềng', 'Sơn trà', 'Gừng', 'Kỷ tử', 'Nho', 'Mãng cầu gai', 'Ổi',\n",
    "              'Táo gai',\n",
    "              'Mít', 'Hồng táo',\n",
    "              'Rau cải xoăn', 'Kiwi', 'Kim quất',\n",
    "              'Bòn bon', 'Chanh', 'Keo dậu', 'Chanh vàng', 'Nhãn', 'Đậu đũa', 'Lêkima', 'Vải',\n",
    "              'Mắcca', 'Xoài', 'Măng cụt', 'Thần kì', 'Nhàu', 'Mãng cầu núi', 'Sim',\n",
    "              'Xuân đào',\n",
    "              'Cam',\n",
    "              'Lúa nước', 'Đu đủ', 'Chanh dây', 'Đậu', 'Lạc', 'Đào', 'Lê', 'Ớt', 'Hồng', 'Dứa', 'Lựu', 'Bưởi', 'Bí ngô',\n",
    "              'Mộc qua',\n",
    "              'Chôm chôm', 'Mâm xôi', 'Mướp', 'Roi',\n",
    "              'Hồng xiêm', 'Đậu nành', 'Rau dền', 'Dâu tây', 'Khoai lang',\n",
    "              'Quýt', 'Thuốc lá', 'Cà chua',\n",
    "              'Vani',\n",
    "              'Dưa hấu', 'Hồng sâm',\n",
    "              'Bí ngòi']\n",
    "category_nums = len(categories)"
   ]
  },
  {
   "cell_type": "code",
   "execution_count": 3,
   "metadata": {},
   "outputs": [],
   "source": [
    "# data = []\n",
    "\n",
    "# for category in categories:\n",
    "#     category_path = os.path.join(main_directory, category)\n",
    "#     for filename in os.listdir(category_path):\n",
    "#         file_path = os.path.join(category_path, filename)\n",
    "#         data.append({'file_path': file_path, 'label': category})\n",
    "\n",
    "# # Convert the list to a DataFrame\n",
    "# df = pd.DataFrame(data)\n",
    "\n",
    "# train_df, temp_df = train_test_split(df, test_size=0.2, stratify=df['label'], random_state=42)\n",
    "# validation_df, test_df = train_test_split(temp_df, test_size=0.5, stratify=temp_df['label'], random_state=42)\n"
   ]
  },
  {
   "cell_type": "code",
   "execution_count": null,
   "metadata": {},
   "outputs": [],
   "source": [
    "# # Define output directories for training, validation and test sets\n",
    "# output_train_dir = r'D:\\Graduation\\Project\\Dataset\\Train'\n",
    "# output_validation_dir = r'D:\\Graduation\\Project\\Dataset\\Validation'\n",
    "# output_test_dir = r'D:\\Graduation\\Project\\Dataset\\Test'"
   ]
  },
  {
   "cell_type": "code",
   "execution_count": null,
   "metadata": {},
   "outputs": [],
   "source": [
    "# Create the output directories \n",
    "# os.makedirs(output_train_dir, exist_ok=True)\n",
    "# os.makedirs(output_validation_dir, exist_ok=True)\n",
    "# os.makedirs(output_test_dir, exist_ok=True)"
   ]
  },
  {
   "cell_type": "code",
   "execution_count": null,
   "metadata": {},
   "outputs": [],
   "source": [
    "# Create subdirectories for each class in train directory\n",
    "# for category in categories:\n",
    "#     os.makedirs(os.path.join(output_train_dir, category), exist_ok=True)"
   ]
  },
  {
   "cell_type": "code",
   "execution_count": null,
   "metadata": {},
   "outputs": [],
   "source": [
    "# Create subdirectories for each class in validation directory\n",
    "# for category in categories:\n",
    "#     os.makedirs(os.path.join(output_validation_dir, category), exist_ok=True)\n",
    "\n",
    "# Create subdirectories for each class in test directory\n",
    "# for category in categories:\n",
    "#     os.makedirs(os.path.join(output_test_dir, category), exist_ok=True)"
   ]
  },
  {
   "cell_type": "code",
   "execution_count": null,
   "metadata": {},
   "outputs": [],
   "source": [
    "# Copy images to the train directory with class subdirectories\n",
    "# for i, row in train_df.iterrows():\n",
    "#     destination_path = os.path.join(output_train_dir, row['label'], f\"{row['label']}_{i}.jpg\")\n",
    "#     shutil.copy(row['file_path'], destination_path)\n",
    "\n",
    "# # Copy images to the validation directory with class subdirectories\n",
    "# for i, row in validation_df.iterrows():\n",
    "#     destination_path = os.path.join(output_validation_dir, row['label'], f\"{row['label']}_{i}.jpg\")\n",
    "#     shutil.copy(row['file_path'], destination_path)\n",
    "\n",
    "# # Copy images to the test directory with class subdirectories\n",
    "# for i, row in test_df.iterrows():\n",
    "#     destination_path = os.path.join(output_test_dir, row['label'], f\"{row['label']}_{i}.jpg\")\n",
    "#     shutil.copy(row['file_path'], destination_path)"
   ]
  },
  {
   "cell_type": "code",
   "execution_count": 5,
   "metadata": {},
   "outputs": [
    {
     "name": "stdout",
     "output_type": "stream",
     "text": [
      "Found 99669 images belonging to 100 classes.\n",
      "Found 12459 images belonging to 100 classes.\n",
      "Found 12459 images belonging to 100 classes.\n"
     ]
    }
   ],
   "source": [
    "# Define the data augmentation parameters for training\n",
    "train_datagen = ImageDataGenerator(\n",
    "    preprocessing_function=preprocess_input,\n",
    "    rotation_range=10,\n",
    "    zoom_range=0.2,\n",
    "    horizontal_flip=True,\n",
    "    fill_mode='nearest'\n",
    ")\n",
    "\n",
    "# Define only rescaling for validation and test\n",
    "valid_test_datagen = ImageDataGenerator(preprocessing_function=preprocess_input)\n",
    "\n",
    "# Set up the directory structure\n",
    "directory = r'D:\\Graduation\\Project\\Dataset'\n",
    "training_dir = r'D:\\Graduation\\Project\\Dataset\\Train'\n",
    "validation_dir = r'D:\\Graduation\\Project\\Dataset\\Validation'\n",
    "test_dir = r'D:\\Graduation\\Project\\Dataset\\Test'\n",
    "\n",
    "img_height = int(262 / 1.3)\n",
    "img_width = int(213 / 1.3)\n",
    "batch_size = 100\n",
    "\n",
    "# Create generators for train, validation and test data\n",
    "train_generator = train_datagen.flow_from_directory(\n",
    "    training_dir,\n",
    "    target_size=(img_height, img_width),\n",
    "    batch_size=batch_size,\n",
    "    class_mode='categorical'\n",
    ")\n",
    "\n",
    "validation_generator = valid_test_datagen.flow_from_directory(\n",
    "    validation_dir,\n",
    "    target_size=(img_height, img_width),\n",
    "    batch_size=batch_size,\n",
    "    class_mode='categorical',\n",
    "    shuffle=False\n",
    ")\n",
    "\n",
    "test_generator = valid_test_datagen.flow_from_directory(\n",
    "    test_dir,\n",
    "    target_size=(img_height, img_width),\n",
    "    batch_size=batch_size,\n",
    "    class_mode='categorical',\n",
    "    shuffle=False\n",
    ")"
   ]
  },
  {
   "cell_type": "code",
   "execution_count": 6,
   "metadata": {},
   "outputs": [],
   "source": [
    "# Define callbacks\n",
    "early_stopping_callback = EarlyStopping(monitor='val_loss', patience=10, restore_best_weights=True)\n",
    "checkpoint_callback = ModelCheckpoint('model_weights.keras', monitor='val_accuracy', save_best_only=True)"
   ]
  },
  {
   "cell_type": "code",
   "execution_count": null,
   "metadata": {},
   "outputs": [
    {
     "data": {
      "text/html": [
       "<pre style=\"white-space:pre;overflow-x:auto;line-height:normal;font-family:Menlo,'DejaVu Sans Mono',consolas,'Courier New',monospace\"><span style=\"font-weight: bold\">Model: \"sequential\"</span>\n",
       "</pre>\n"
      ],
      "text/plain": [
       "\u001b[1mModel: \"sequential\"\u001b[0m\n"
      ]
     },
     "metadata": {},
     "output_type": "display_data"
    },
    {
     "data": {
      "text/html": [
       "<pre style=\"white-space:pre;overflow-x:auto;line-height:normal;font-family:Menlo,'DejaVu Sans Mono',consolas,'Courier New',monospace\">┏━━━━━━━━━━━━━━━━━━━━━━━━━━━━━━━━━┳━━━━━━━━━━━━━━━━━━━━━━━━┳━━━━━━━━━━━━━━━┓\n",
       "┃<span style=\"font-weight: bold\"> Layer (type)                    </span>┃<span style=\"font-weight: bold\"> Output Shape           </span>┃<span style=\"font-weight: bold\">       Param # </span>┃\n",
       "┡━━━━━━━━━━━━━━━━━━━━━━━━━━━━━━━━━╇━━━━━━━━━━━━━━━━━━━━━━━━╇━━━━━━━━━━━━━━━┩\n",
       "│ conv2d (<span style=\"color: #0087ff; text-decoration-color: #0087ff\">Conv2D</span>)                 │ (<span style=\"color: #00d7ff; text-decoration-color: #00d7ff\">None</span>, <span style=\"color: #00af00; text-decoration-color: #00af00\">199</span>, <span style=\"color: #00af00; text-decoration-color: #00af00\">161</span>, <span style=\"color: #00af00; text-decoration-color: #00af00\">64</span>)   │         <span style=\"color: #00af00; text-decoration-color: #00af00\">1,792</span> │\n",
       "├─────────────────────────────────┼────────────────────────┼───────────────┤\n",
       "│ batch_normalization             │ (<span style=\"color: #00d7ff; text-decoration-color: #00d7ff\">None</span>, <span style=\"color: #00af00; text-decoration-color: #00af00\">199</span>, <span style=\"color: #00af00; text-decoration-color: #00af00\">161</span>, <span style=\"color: #00af00; text-decoration-color: #00af00\">64</span>)   │           <span style=\"color: #00af00; text-decoration-color: #00af00\">256</span> │\n",
       "│ (<span style=\"color: #0087ff; text-decoration-color: #0087ff\">BatchNormalization</span>)            │                        │               │\n",
       "├─────────────────────────────────┼────────────────────────┼───────────────┤\n",
       "│ max_pooling2d (<span style=\"color: #0087ff; text-decoration-color: #0087ff\">MaxPooling2D</span>)    │ (<span style=\"color: #00d7ff; text-decoration-color: #00d7ff\">None</span>, <span style=\"color: #00af00; text-decoration-color: #00af00\">99</span>, <span style=\"color: #00af00; text-decoration-color: #00af00\">80</span>, <span style=\"color: #00af00; text-decoration-color: #00af00\">64</span>)     │             <span style=\"color: #00af00; text-decoration-color: #00af00\">0</span> │\n",
       "├─────────────────────────────────┼────────────────────────┼───────────────┤\n",
       "│ conv2d_1 (<span style=\"color: #0087ff; text-decoration-color: #0087ff\">Conv2D</span>)               │ (<span style=\"color: #00d7ff; text-decoration-color: #00d7ff\">None</span>, <span style=\"color: #00af00; text-decoration-color: #00af00\">97</span>, <span style=\"color: #00af00; text-decoration-color: #00af00\">78</span>, <span style=\"color: #00af00; text-decoration-color: #00af00\">128</span>)    │        <span style=\"color: #00af00; text-decoration-color: #00af00\">73,856</span> │\n",
       "├─────────────────────────────────┼────────────────────────┼───────────────┤\n",
       "│ batch_normalization_1           │ (<span style=\"color: #00d7ff; text-decoration-color: #00d7ff\">None</span>, <span style=\"color: #00af00; text-decoration-color: #00af00\">97</span>, <span style=\"color: #00af00; text-decoration-color: #00af00\">78</span>, <span style=\"color: #00af00; text-decoration-color: #00af00\">128</span>)    │           <span style=\"color: #00af00; text-decoration-color: #00af00\">512</span> │\n",
       "│ (<span style=\"color: #0087ff; text-decoration-color: #0087ff\">BatchNormalization</span>)            │                        │               │\n",
       "├─────────────────────────────────┼────────────────────────┼───────────────┤\n",
       "│ max_pooling2d_1 (<span style=\"color: #0087ff; text-decoration-color: #0087ff\">MaxPooling2D</span>)  │ (<span style=\"color: #00d7ff; text-decoration-color: #00d7ff\">None</span>, <span style=\"color: #00af00; text-decoration-color: #00af00\">48</span>, <span style=\"color: #00af00; text-decoration-color: #00af00\">39</span>, <span style=\"color: #00af00; text-decoration-color: #00af00\">128</span>)    │             <span style=\"color: #00af00; text-decoration-color: #00af00\">0</span> │\n",
       "├─────────────────────────────────┼────────────────────────┼───────────────┤\n",
       "│ conv2d_2 (<span style=\"color: #0087ff; text-decoration-color: #0087ff\">Conv2D</span>)               │ (<span style=\"color: #00d7ff; text-decoration-color: #00d7ff\">None</span>, <span style=\"color: #00af00; text-decoration-color: #00af00\">46</span>, <span style=\"color: #00af00; text-decoration-color: #00af00\">37</span>, <span style=\"color: #00af00; text-decoration-color: #00af00\">256</span>)    │       <span style=\"color: #00af00; text-decoration-color: #00af00\">295,168</span> │\n",
       "├─────────────────────────────────┼────────────────────────┼───────────────┤\n",
       "│ batch_normalization_2           │ (<span style=\"color: #00d7ff; text-decoration-color: #00d7ff\">None</span>, <span style=\"color: #00af00; text-decoration-color: #00af00\">46</span>, <span style=\"color: #00af00; text-decoration-color: #00af00\">37</span>, <span style=\"color: #00af00; text-decoration-color: #00af00\">256</span>)    │         <span style=\"color: #00af00; text-decoration-color: #00af00\">1,024</span> │\n",
       "│ (<span style=\"color: #0087ff; text-decoration-color: #0087ff\">BatchNormalization</span>)            │                        │               │\n",
       "├─────────────────────────────────┼────────────────────────┼───────────────┤\n",
       "│ max_pooling2d_2 (<span style=\"color: #0087ff; text-decoration-color: #0087ff\">MaxPooling2D</span>)  │ (<span style=\"color: #00d7ff; text-decoration-color: #00d7ff\">None</span>, <span style=\"color: #00af00; text-decoration-color: #00af00\">23</span>, <span style=\"color: #00af00; text-decoration-color: #00af00\">18</span>, <span style=\"color: #00af00; text-decoration-color: #00af00\">256</span>)    │             <span style=\"color: #00af00; text-decoration-color: #00af00\">0</span> │\n",
       "├─────────────────────────────────┼────────────────────────┼───────────────┤\n",
       "│ flatten (<span style=\"color: #0087ff; text-decoration-color: #0087ff\">Flatten</span>)               │ (<span style=\"color: #00d7ff; text-decoration-color: #00d7ff\">None</span>, <span style=\"color: #00af00; text-decoration-color: #00af00\">105984</span>)         │             <span style=\"color: #00af00; text-decoration-color: #00af00\">0</span> │\n",
       "├─────────────────────────────────┼────────────────────────┼───────────────┤\n",
       "│ dense (<span style=\"color: #0087ff; text-decoration-color: #0087ff\">Dense</span>)                   │ (<span style=\"color: #00d7ff; text-decoration-color: #00d7ff\">None</span>, <span style=\"color: #00af00; text-decoration-color: #00af00\">512</span>)            │    <span style=\"color: #00af00; text-decoration-color: #00af00\">54,264,320</span> │\n",
       "├─────────────────────────────────┼────────────────────────┼───────────────┤\n",
       "│ batch_normalization_3           │ (<span style=\"color: #00d7ff; text-decoration-color: #00d7ff\">None</span>, <span style=\"color: #00af00; text-decoration-color: #00af00\">512</span>)            │         <span style=\"color: #00af00; text-decoration-color: #00af00\">2,048</span> │\n",
       "│ (<span style=\"color: #0087ff; text-decoration-color: #0087ff\">BatchNormalization</span>)            │                        │               │\n",
       "├─────────────────────────────────┼────────────────────────┼───────────────┤\n",
       "│ dropout (<span style=\"color: #0087ff; text-decoration-color: #0087ff\">Dropout</span>)               │ (<span style=\"color: #00d7ff; text-decoration-color: #00d7ff\">None</span>, <span style=\"color: #00af00; text-decoration-color: #00af00\">512</span>)            │             <span style=\"color: #00af00; text-decoration-color: #00af00\">0</span> │\n",
       "├─────────────────────────────────┼────────────────────────┼───────────────┤\n",
       "│ dense_1 (<span style=\"color: #0087ff; text-decoration-color: #0087ff\">Dense</span>)                 │ (<span style=\"color: #00d7ff; text-decoration-color: #00d7ff\">None</span>, <span style=\"color: #00af00; text-decoration-color: #00af00\">256</span>)            │       <span style=\"color: #00af00; text-decoration-color: #00af00\">131,328</span> │\n",
       "├─────────────────────────────────┼────────────────────────┼───────────────┤\n",
       "│ batch_normalization_4           │ (<span style=\"color: #00d7ff; text-decoration-color: #00d7ff\">None</span>, <span style=\"color: #00af00; text-decoration-color: #00af00\">256</span>)            │         <span style=\"color: #00af00; text-decoration-color: #00af00\">1,024</span> │\n",
       "│ (<span style=\"color: #0087ff; text-decoration-color: #0087ff\">BatchNormalization</span>)            │                        │               │\n",
       "├─────────────────────────────────┼────────────────────────┼───────────────┤\n",
       "│ dropout_1 (<span style=\"color: #0087ff; text-decoration-color: #0087ff\">Dropout</span>)             │ (<span style=\"color: #00d7ff; text-decoration-color: #00d7ff\">None</span>, <span style=\"color: #00af00; text-decoration-color: #00af00\">256</span>)            │             <span style=\"color: #00af00; text-decoration-color: #00af00\">0</span> │\n",
       "├─────────────────────────────────┼────────────────────────┼───────────────┤\n",
       "│ dense_2 (<span style=\"color: #0087ff; text-decoration-color: #0087ff\">Dense</span>)                 │ (<span style=\"color: #00d7ff; text-decoration-color: #00d7ff\">None</span>, <span style=\"color: #00af00; text-decoration-color: #00af00\">128</span>)            │        <span style=\"color: #00af00; text-decoration-color: #00af00\">32,896</span> │\n",
       "├─────────────────────────────────┼────────────────────────┼───────────────┤\n",
       "│ batch_normalization_5           │ (<span style=\"color: #00d7ff; text-decoration-color: #00d7ff\">None</span>, <span style=\"color: #00af00; text-decoration-color: #00af00\">128</span>)            │           <span style=\"color: #00af00; text-decoration-color: #00af00\">512</span> │\n",
       "│ (<span style=\"color: #0087ff; text-decoration-color: #0087ff\">BatchNormalization</span>)            │                        │               │\n",
       "├─────────────────────────────────┼────────────────────────┼───────────────┤\n",
       "│ dropout_2 (<span style=\"color: #0087ff; text-decoration-color: #0087ff\">Dropout</span>)             │ (<span style=\"color: #00d7ff; text-decoration-color: #00d7ff\">None</span>, <span style=\"color: #00af00; text-decoration-color: #00af00\">128</span>)            │             <span style=\"color: #00af00; text-decoration-color: #00af00\">0</span> │\n",
       "├─────────────────────────────────┼────────────────────────┼───────────────┤\n",
       "│ dense_3 (<span style=\"color: #0087ff; text-decoration-color: #0087ff\">Dense</span>)                 │ (<span style=\"color: #00d7ff; text-decoration-color: #00d7ff\">None</span>, <span style=\"color: #00af00; text-decoration-color: #00af00\">100</span>)            │        <span style=\"color: #00af00; text-decoration-color: #00af00\">12,900</span> │\n",
       "└─────────────────────────────────┴────────────────────────┴───────────────┘\n",
       "</pre>\n"
      ],
      "text/plain": [
       "┏━━━━━━━━━━━━━━━━━━━━━━━━━━━━━━━━━┳━━━━━━━━━━━━━━━━━━━━━━━━┳━━━━━━━━━━━━━━━┓\n",
       "┃\u001b[1m \u001b[0m\u001b[1mLayer (type)                   \u001b[0m\u001b[1m \u001b[0m┃\u001b[1m \u001b[0m\u001b[1mOutput Shape          \u001b[0m\u001b[1m \u001b[0m┃\u001b[1m \u001b[0m\u001b[1m      Param #\u001b[0m\u001b[1m \u001b[0m┃\n",
       "┡━━━━━━━━━━━━━━━━━━━━━━━━━━━━━━━━━╇━━━━━━━━━━━━━━━━━━━━━━━━╇━━━━━━━━━━━━━━━┩\n",
       "│ conv2d (\u001b[38;5;33mConv2D\u001b[0m)                 │ (\u001b[38;5;45mNone\u001b[0m, \u001b[38;5;34m199\u001b[0m, \u001b[38;5;34m161\u001b[0m, \u001b[38;5;34m64\u001b[0m)   │         \u001b[38;5;34m1,792\u001b[0m │\n",
       "├─────────────────────────────────┼────────────────────────┼───────────────┤\n",
       "│ batch_normalization             │ (\u001b[38;5;45mNone\u001b[0m, \u001b[38;5;34m199\u001b[0m, \u001b[38;5;34m161\u001b[0m, \u001b[38;5;34m64\u001b[0m)   │           \u001b[38;5;34m256\u001b[0m │\n",
       "│ (\u001b[38;5;33mBatchNormalization\u001b[0m)            │                        │               │\n",
       "├─────────────────────────────────┼────────────────────────┼───────────────┤\n",
       "│ max_pooling2d (\u001b[38;5;33mMaxPooling2D\u001b[0m)    │ (\u001b[38;5;45mNone\u001b[0m, \u001b[38;5;34m99\u001b[0m, \u001b[38;5;34m80\u001b[0m, \u001b[38;5;34m64\u001b[0m)     │             \u001b[38;5;34m0\u001b[0m │\n",
       "├─────────────────────────────────┼────────────────────────┼───────────────┤\n",
       "│ conv2d_1 (\u001b[38;5;33mConv2D\u001b[0m)               │ (\u001b[38;5;45mNone\u001b[0m, \u001b[38;5;34m97\u001b[0m, \u001b[38;5;34m78\u001b[0m, \u001b[38;5;34m128\u001b[0m)    │        \u001b[38;5;34m73,856\u001b[0m │\n",
       "├─────────────────────────────────┼────────────────────────┼───────────────┤\n",
       "│ batch_normalization_1           │ (\u001b[38;5;45mNone\u001b[0m, \u001b[38;5;34m97\u001b[0m, \u001b[38;5;34m78\u001b[0m, \u001b[38;5;34m128\u001b[0m)    │           \u001b[38;5;34m512\u001b[0m │\n",
       "│ (\u001b[38;5;33mBatchNormalization\u001b[0m)            │                        │               │\n",
       "├─────────────────────────────────┼────────────────────────┼───────────────┤\n",
       "│ max_pooling2d_1 (\u001b[38;5;33mMaxPooling2D\u001b[0m)  │ (\u001b[38;5;45mNone\u001b[0m, \u001b[38;5;34m48\u001b[0m, \u001b[38;5;34m39\u001b[0m, \u001b[38;5;34m128\u001b[0m)    │             \u001b[38;5;34m0\u001b[0m │\n",
       "├─────────────────────────────────┼────────────────────────┼───────────────┤\n",
       "│ conv2d_2 (\u001b[38;5;33mConv2D\u001b[0m)               │ (\u001b[38;5;45mNone\u001b[0m, \u001b[38;5;34m46\u001b[0m, \u001b[38;5;34m37\u001b[0m, \u001b[38;5;34m256\u001b[0m)    │       \u001b[38;5;34m295,168\u001b[0m │\n",
       "├─────────────────────────────────┼────────────────────────┼───────────────┤\n",
       "│ batch_normalization_2           │ (\u001b[38;5;45mNone\u001b[0m, \u001b[38;5;34m46\u001b[0m, \u001b[38;5;34m37\u001b[0m, \u001b[38;5;34m256\u001b[0m)    │         \u001b[38;5;34m1,024\u001b[0m │\n",
       "│ (\u001b[38;5;33mBatchNormalization\u001b[0m)            │                        │               │\n",
       "├─────────────────────────────────┼────────────────────────┼───────────────┤\n",
       "│ max_pooling2d_2 (\u001b[38;5;33mMaxPooling2D\u001b[0m)  │ (\u001b[38;5;45mNone\u001b[0m, \u001b[38;5;34m23\u001b[0m, \u001b[38;5;34m18\u001b[0m, \u001b[38;5;34m256\u001b[0m)    │             \u001b[38;5;34m0\u001b[0m │\n",
       "├─────────────────────────────────┼────────────────────────┼───────────────┤\n",
       "│ flatten (\u001b[38;5;33mFlatten\u001b[0m)               │ (\u001b[38;5;45mNone\u001b[0m, \u001b[38;5;34m105984\u001b[0m)         │             \u001b[38;5;34m0\u001b[0m │\n",
       "├─────────────────────────────────┼────────────────────────┼───────────────┤\n",
       "│ dense (\u001b[38;5;33mDense\u001b[0m)                   │ (\u001b[38;5;45mNone\u001b[0m, \u001b[38;5;34m512\u001b[0m)            │    \u001b[38;5;34m54,264,320\u001b[0m │\n",
       "├─────────────────────────────────┼────────────────────────┼───────────────┤\n",
       "│ batch_normalization_3           │ (\u001b[38;5;45mNone\u001b[0m, \u001b[38;5;34m512\u001b[0m)            │         \u001b[38;5;34m2,048\u001b[0m │\n",
       "│ (\u001b[38;5;33mBatchNormalization\u001b[0m)            │                        │               │\n",
       "├─────────────────────────────────┼────────────────────────┼───────────────┤\n",
       "│ dropout (\u001b[38;5;33mDropout\u001b[0m)               │ (\u001b[38;5;45mNone\u001b[0m, \u001b[38;5;34m512\u001b[0m)            │             \u001b[38;5;34m0\u001b[0m │\n",
       "├─────────────────────────────────┼────────────────────────┼───────────────┤\n",
       "│ dense_1 (\u001b[38;5;33mDense\u001b[0m)                 │ (\u001b[38;5;45mNone\u001b[0m, \u001b[38;5;34m256\u001b[0m)            │       \u001b[38;5;34m131,328\u001b[0m │\n",
       "├─────────────────────────────────┼────────────────────────┼───────────────┤\n",
       "│ batch_normalization_4           │ (\u001b[38;5;45mNone\u001b[0m, \u001b[38;5;34m256\u001b[0m)            │         \u001b[38;5;34m1,024\u001b[0m │\n",
       "│ (\u001b[38;5;33mBatchNormalization\u001b[0m)            │                        │               │\n",
       "├─────────────────────────────────┼────────────────────────┼───────────────┤\n",
       "│ dropout_1 (\u001b[38;5;33mDropout\u001b[0m)             │ (\u001b[38;5;45mNone\u001b[0m, \u001b[38;5;34m256\u001b[0m)            │             \u001b[38;5;34m0\u001b[0m │\n",
       "├─────────────────────────────────┼────────────────────────┼───────────────┤\n",
       "│ dense_2 (\u001b[38;5;33mDense\u001b[0m)                 │ (\u001b[38;5;45mNone\u001b[0m, \u001b[38;5;34m128\u001b[0m)            │        \u001b[38;5;34m32,896\u001b[0m │\n",
       "├─────────────────────────────────┼────────────────────────┼───────────────┤\n",
       "│ batch_normalization_5           │ (\u001b[38;5;45mNone\u001b[0m, \u001b[38;5;34m128\u001b[0m)            │           \u001b[38;5;34m512\u001b[0m │\n",
       "│ (\u001b[38;5;33mBatchNormalization\u001b[0m)            │                        │               │\n",
       "├─────────────────────────────────┼────────────────────────┼───────────────┤\n",
       "│ dropout_2 (\u001b[38;5;33mDropout\u001b[0m)             │ (\u001b[38;5;45mNone\u001b[0m, \u001b[38;5;34m128\u001b[0m)            │             \u001b[38;5;34m0\u001b[0m │\n",
       "├─────────────────────────────────┼────────────────────────┼───────────────┤\n",
       "│ dense_3 (\u001b[38;5;33mDense\u001b[0m)                 │ (\u001b[38;5;45mNone\u001b[0m, \u001b[38;5;34m100\u001b[0m)            │        \u001b[38;5;34m12,900\u001b[0m │\n",
       "└─────────────────────────────────┴────────────────────────┴───────────────┘\n"
      ]
     },
     "metadata": {},
     "output_type": "display_data"
    },
    {
     "data": {
      "text/html": [
       "<pre style=\"white-space:pre;overflow-x:auto;line-height:normal;font-family:Menlo,'DejaVu Sans Mono',consolas,'Courier New',monospace\"><span style=\"font-weight: bold\"> Total params: </span><span style=\"color: #00af00; text-decoration-color: #00af00\">54,817,636</span> (209.11 MB)\n",
       "</pre>\n"
      ],
      "text/plain": [
       "\u001b[1m Total params: \u001b[0m\u001b[38;5;34m54,817,636\u001b[0m (209.11 MB)\n"
      ]
     },
     "metadata": {},
     "output_type": "display_data"
    },
    {
     "data": {
      "text/html": [
       "<pre style=\"white-space:pre;overflow-x:auto;line-height:normal;font-family:Menlo,'DejaVu Sans Mono',consolas,'Courier New',monospace\"><span style=\"font-weight: bold\"> Trainable params: </span><span style=\"color: #00af00; text-decoration-color: #00af00\">54,814,948</span> (209.10 MB)\n",
       "</pre>\n"
      ],
      "text/plain": [
       "\u001b[1m Trainable params: \u001b[0m\u001b[38;5;34m54,814,948\u001b[0m (209.10 MB)\n"
      ]
     },
     "metadata": {},
     "output_type": "display_data"
    },
    {
     "data": {
      "text/html": [
       "<pre style=\"white-space:pre;overflow-x:auto;line-height:normal;font-family:Menlo,'DejaVu Sans Mono',consolas,'Courier New',monospace\"><span style=\"font-weight: bold\"> Non-trainable params: </span><span style=\"color: #00af00; text-decoration-color: #00af00\">2,688</span> (10.50 KB)\n",
       "</pre>\n"
      ],
      "text/plain": [
       "\u001b[1m Non-trainable params: \u001b[0m\u001b[38;5;34m2,688\u001b[0m (10.50 KB)\n"
      ]
     },
     "metadata": {},
     "output_type": "display_data"
    }
   ],
   "source": [
    "model = Sequential()\n",
    "\n",
    "input_shape = (img_height, img_width, 3)\n",
    "# Convolutional layers with batch normalization and max pooling\n",
    "model.add(Input(shape=input_shape))\n",
    "\n",
    "model.add(Conv2D(64, (3, 3), activation='relu'))\n",
    "model.add(BatchNormalization())\n",
    "model.add(MaxPooling2D(pool_size=(2, 2)))\n",
    "\n",
    "model.add(Conv2D(128, (3, 3), activation='relu'))\n",
    "model.add(BatchNormalization())\n",
    "model.add(MaxPooling2D(pool_size=(2, 2)))\n",
    "\n",
    "model.add(Conv2D(256, (3, 3), activation='relu'))\n",
    "model.add(BatchNormalization())\n",
    "model.add(MaxPooling2D(pool_size=(2, 2)))\n",
    "\n",
    "# Flatten the ouput before the dense layers\n",
    "model.add(Flatten())\n",
    "\n",
    "# Fully connected layers for classification\n",
    "model.add(Dense(512, activation='relu'))\n",
    "model.add(BatchNormalization())\n",
    "model.add(Dropout(0.6))\n",
    "\n",
    "model.add(Dense(256, activation='relu'))\n",
    "model.add(BatchNormalization())\n",
    "model.add(Dropout(0.4))\n",
    "\n",
    "model.add(Dense(128, activation='relu'))\n",
    "model.add(BatchNormalization())\n",
    "model.add(Dropout(0.3))\n",
    "\n",
    "# Output layer for classification with softmax activation\n",
    "num_classes = len(train_generator.class_indices)\n",
    "model.add(Dense(num_classes, activation='softmax'))\n",
    "\n",
    "# Compile the model with the Adam optimizer and a learning rate scheduler\n",
    "opt = Adam(learning_rate=1e-4)\n",
    "model.compile(optimizer=opt, loss='categorical_crossentropy', metrics=['accuracy'])\n",
    "\n",
    "model.summary()"
   ]
  },
  {
   "cell_type": "code",
   "execution_count": 7,
   "metadata": {},
   "outputs": [],
   "source": [
    "model = load_model('D:\\Graduation\\Project\\check_point\\CNN_model_115e.keras')"
   ]
  },
  {
   "cell_type": "code",
   "execution_count": 12,
   "metadata": {},
   "outputs": [
    {
     "name": "stdout",
     "output_type": "stream",
     "text": [
      "Epoch 1/15\n",
      "\u001b[1m996/996\u001b[0m \u001b[32m━━━━━━━━━━━━━━━━━━━━\u001b[0m\u001b[37m\u001b[0m \u001b[1m4642s\u001b[0m 5s/step - accuracy: 0.7203 - loss: 0.9836 - val_accuracy: 0.6923 - val_loss: 1.1694\n",
      "Epoch 2/15\n",
      "\u001b[1m996/996\u001b[0m \u001b[32m━━━━━━━━━━━━━━━━━━━━\u001b[0m\u001b[37m\u001b[0m \u001b[1m7s\u001b[0m 3ms/step - accuracy: 0.7700 - loss: 0.7991 - val_accuracy: 0.8136 - val_loss: 0.7622\n",
      "Epoch 3/15\n",
      "\u001b[1m996/996\u001b[0m \u001b[32m━━━━━━━━━━━━━━━━━━━━\u001b[0m\u001b[37m\u001b[0m \u001b[1m4637s\u001b[0m 5s/step - accuracy: 0.7241 - loss: 0.9731 - val_accuracy: 0.6765 - val_loss: 1.2164\n",
      "Epoch 4/15\n",
      "\u001b[1m996/996\u001b[0m \u001b[32m━━━━━━━━━━━━━━━━━━━━\u001b[0m\u001b[37m\u001b[0m \u001b[1m5s\u001b[0m 655us/step - accuracy: 0.6800 - loss: 1.0817 - val_accuracy: 0.8136 - val_loss: 0.7417\n",
      "Epoch 5/15\n",
      "\u001b[1m996/996\u001b[0m \u001b[32m━━━━━━━━━━━━━━━━━━━━\u001b[0m\u001b[37m\u001b[0m \u001b[1m4640s\u001b[0m 5s/step - accuracy: 0.7222 - loss: 0.9707 - val_accuracy: 0.6713 - val_loss: 1.2687\n",
      "Epoch 6/15\n",
      "\u001b[1m996/996\u001b[0m \u001b[32m━━━━━━━━━━━━━━━━━━━━\u001b[0m\u001b[37m\u001b[0m \u001b[1m5s\u001b[0m 561us/step - accuracy: 0.7100 - loss: 1.1067 - val_accuracy: 0.7797 - val_loss: 0.9207\n",
      "Epoch 7/15\n",
      "\u001b[1m996/996\u001b[0m \u001b[32m━━━━━━━━━━━━━━━━━━━━\u001b[0m\u001b[37m\u001b[0m \u001b[1m4667s\u001b[0m 5s/step - accuracy: 0.7272 - loss: 0.9511 - val_accuracy: 0.6961 - val_loss: 1.1854\n",
      "Epoch 8/15\n",
      "\u001b[1m996/996\u001b[0m \u001b[32m━━━━━━━━━━━━━━━━━━━━\u001b[0m\u001b[37m\u001b[0m \u001b[1m5s\u001b[0m 560us/step - accuracy: 0.7000 - loss: 0.8647 - val_accuracy: 0.8136 - val_loss: 0.8744\n",
      "Epoch 9/15\n",
      "\u001b[1m996/996\u001b[0m \u001b[32m━━━━━━━━━━━━━━━━━━━━\u001b[0m\u001b[37m\u001b[0m \u001b[1m4650s\u001b[0m 5s/step - accuracy: 0.7315 - loss: 0.9292 - val_accuracy: 0.6854 - val_loss: 1.2246\n",
      "Epoch 10/15\n",
      "\u001b[1m996/996\u001b[0m \u001b[32m━━━━━━━━━━━━━━━━━━━━\u001b[0m\u001b[37m\u001b[0m \u001b[1m5s\u001b[0m 565us/step - accuracy: 0.7400 - loss: 0.7492 - val_accuracy: 0.7458 - val_loss: 1.0173\n",
      "Epoch 11/15\n",
      "\u001b[1m996/996\u001b[0m \u001b[32m━━━━━━━━━━━━━━━━━━━━\u001b[0m\u001b[37m\u001b[0m \u001b[1m4652s\u001b[0m 5s/step - accuracy: 0.7349 - loss: 0.9280 - val_accuracy: 0.6960 - val_loss: 1.1683\n",
      "Epoch 12/15\n",
      "\u001b[1m996/996\u001b[0m \u001b[32m━━━━━━━━━━━━━━━━━━━━\u001b[0m\u001b[37m\u001b[0m \u001b[1m5s\u001b[0m 577us/step - accuracy: 0.6900 - loss: 0.8472 - val_accuracy: 0.6610 - val_loss: 1.2002\n",
      "Epoch 13/15\n",
      "\u001b[1m996/996\u001b[0m \u001b[32m━━━━━━━━━━━━━━━━━━━━\u001b[0m\u001b[37m\u001b[0m \u001b[1m4587s\u001b[0m 5s/step - accuracy: 0.7394 - loss: 0.9137 - val_accuracy: 0.7033 - val_loss: 1.1588\n",
      "Epoch 14/15\n",
      "\u001b[1m996/996\u001b[0m \u001b[32m━━━━━━━━━━━━━━━━━━━━\u001b[0m\u001b[37m\u001b[0m \u001b[1m8s\u001b[0m 3ms/step - accuracy: 0.7300 - loss: 0.9083 - val_accuracy: 0.8305 - val_loss: 0.8622\n"
     ]
    }
   ],
   "source": [
    "# Train the model using the generators with callbacks\n",
    "history = model.fit(\n",
    "    train_generator,\n",
    "    steps_per_epoch=train_generator.samples // batch_size,\n",
    "    epochs=15,\n",
    "    validation_data=validation_generator,\n",
    "    validation_steps=validation_generator.samples // batch_size,\n",
    "    callbacks=[early_stopping_callback, checkpoint_callback]\n",
    ")"
   ]
  },
  {
   "cell_type": "code",
   "execution_count": 14,
   "metadata": {},
   "outputs": [
    {
     "name": "stdout",
     "output_type": "stream",
     "text": [
      "\u001b[1m124/124\u001b[0m \u001b[32m━━━━━━━━━━━━━━━━━━━━\u001b[0m\u001b[37m\u001b[0m \u001b[1m158s\u001b[0m 1s/step - accuracy: 0.6401 - loss: 1.3806\n",
      "Test Loss:  1.2450697422027588\n",
      "Test Accuracy:  0.6751613020896912\n"
     ]
    }
   ],
   "source": [
    "# Evaluate the model using the test generator\n",
    "test_evaluation = model.evaluate(\n",
    "    test_generator,\n",
    "    steps=test_generator.samples // batch_size\n",
    ")\n",
    "\n",
    "print(\"Test Loss: \", test_evaluation[0])\n",
    "print(\"Test Accuracy: \", test_evaluation[1])"
   ]
  },
  {
   "cell_type": "code",
   "execution_count": 15,
   "metadata": {},
   "outputs": [
    {
     "name": "stdout",
     "output_type": "stream",
     "text": [
      "\u001b[1m1/1\u001b[0m \u001b[32m━━━━━━━━━━━━━━━━━━━━\u001b[0m\u001b[37m\u001b[0m \u001b[1m0s\u001b[0m 46ms/step\n",
      "Predicted Class:  watermelon\n"
     ]
    },
    {
     "data": {
      "image/png": "[encoded data removed]",
      "text/plain": [
       "<Figure size 640x480 with 1 Axes>"
      ]
     },
     "metadata": {},
     "output_type": "display_data"
    }
   ],
   "source": [
    "# Predict image path\n",
    "image_path = r\"D:\\Graduation\\Project\\FinalDataset\\Training\\watermelon\\524.jpg\"\n",
    "\n",
    "# Load and preprocess the image\n",
    "img = image.load_img(image_path, target_size=(img_height, img_width))\n",
    "img_array = image.img_to_array(img)\n",
    "img_array = np.expand_dims(img_array, axis=0)\n",
    "img_array = preprocess_input(img_array)\n",
    "\n",
    "# Make the prediction\n",
    "prediction = model.predict(img_array)\n",
    "\n",
    "# Get the predicted class label\n",
    "predicted_class_index = np.argmax(prediction)\n",
    "predicted_class = list(train_generator.class_indices.keys())[predicted_class_index]\n",
    "\n",
    "# Print the predicted class\n",
    "print(\"Predicted Class: \", predicted_class)\n",
    "\n",
    "# Display the image\n",
    "plt.show(img)\n",
    "plt.title(f'Predicted Class: {predicted_class}')\n",
    "plt.show()"
   ]
  },
  {
   "cell_type": "code",
   "execution_count": 13,
   "metadata": {},
   "outputs": [],
   "source": [
    "# model.save('D:\\Graduation\\Project\\check_point\\CNN_model_115e.keras')"
   ]
  },
  {
   "cell_type": "code",
   "execution_count": 9,
   "metadata": {},
   "outputs": [
    {
     "name": "stdout",
     "output_type": "stream",
     "text": [
      "\u001b[1m125/125\u001b[0m \u001b[32m━━━━━━━━━━━━━━━━━━━━\u001b[0m\u001b[37m\u001b[0m \u001b[1m158s\u001b[0m 1s/step\n",
      "Accuracy: 0.6755758889156434\n",
      "\n",
      "Classification Report:\n",
      "                  precision    recall  f1-score   support\n",
      "\n",
      "            abiu       0.87      0.53      0.66       100\n",
      "         acerola       0.59      0.49      0.54       100\n",
      "        aloevera       0.76      0.70      0.73        80\n",
      "       ambarella       0.63      0.55      0.59       110\n",
      "           apple       0.59      0.50      0.54       120\n",
      "         avocado       0.49      0.62      0.55       117\n",
      "          banana       0.82      0.74      0.78        80\n",
      "        bayberry       0.48      0.82      0.61       100\n",
      "     bell pepper       0.90      0.64      0.75       100\n",
      "       betel nut       0.57      0.57      0.57       102\n",
      "         bilimbi       0.69      0.52      0.60       101\n",
      "    bitter gourd       0.73      0.79      0.76       107\n",
      "    black cherry       0.79      0.60      0.68       196\n",
      "   black currant       0.88      0.85      0.87       201\n",
      " black mullberry       0.79      0.33      0.47       103\n",
      "    black sapote       0.66      0.60      0.63       100\n",
      "       blueberry       0.79      0.81      0.80       100\n",
      "    bottle gourd       0.49      0.47      0.48       100\n",
      "     bread fruit       0.45      0.63      0.53       100\n",
      "      cantaloupe       0.84      0.91      0.87       320\n",
      "       carambola       0.82      0.60      0.70       101\n",
      "          cashew       0.80      0.27      0.41       103\n",
      "         cassava       0.69      0.72      0.71        80\n",
      "       cherimoya       0.51      0.35      0.41       103\n",
      "          cherry       0.71      0.63      0.67       213\n",
      "      clementine       0.56      0.18      0.27       100\n",
      "     cluster fig       0.81      0.67      0.73       295\n",
      "      cocoa bean       0.71      0.62      0.66       101\n",
      "         coconut       0.43      0.68      0.53       103\n",
      "          coffee       0.89      0.47      0.61       101\n",
      "            corn       0.82      0.66      0.73       102\n",
      "        cucumber       0.68      0.54      0.60        80\n",
      "         curcuma       0.96      0.66      0.79        80\n",
      "   custard apple       0.53      0.72      0.61       218\n",
      "            date       0.57      0.58      0.57       100\n",
      "        dewberry       0.73      0.80      0.76       265\n",
      "     dragonfruit       0.75      0.83      0.79       103\n",
      "          durian       0.82      0.81      0.81       103\n",
      "        eggplant       0.87      0.89      0.88       181\n",
      "  elephant apple       0.58      0.47      0.52        64\n",
      "     finger lime       0.76      0.64      0.69       103\n",
      "        galangal       0.86      0.40      0.55        80\n",
      "        gandaria       0.82      0.73      0.77       100\n",
      "          ginger       0.55      0.46      0.50        80\n",
      "            goji       0.76      0.60      0.67        65\n",
      "           grape       0.58      0.79      0.67       103\n",
      "       guanabana       0.59      0.70      0.64       101\n",
      "           guava       0.76      0.70      0.73       183\n",
      "        hawthorn       0.68      0.63      0.66       101\n",
      "       jackfruit       0.51      0.93      0.66       103\n",
      "          jujube       0.69      0.43      0.53       127\n",
      "            kale       0.68      0.65      0.67        80\n",
      "            kiwi       0.71      0.72      0.72       101\n",
      "         kumquat       0.57      0.34      0.42       104\n",
      "         langsat       0.81      0.60      0.69       101\n",
      "           lemon       0.47      0.51      0.49       101\n",
      "        leucaena       0.67      0.62      0.64        55\n",
      "            lime       0.55      0.65      0.59       255\n",
      "          longan       0.62      0.70      0.65       102\n",
      "       longbeans       0.85      0.80      0.83        80\n",
      "          lucuma       0.79      0.66      0.72       100\n",
      "          lychee       0.58      0.70      0.64       101\n",
      "       macadamia       0.66      0.51      0.58       101\n",
      "           mango       0.54      0.46      0.50       182\n",
      "      mangosteen       0.72      0.70      0.71       213\n",
      "   miracle fruit       0.74      0.61      0.67        93\n",
      "         morinda       0.91      0.61      0.73       109\n",
      "mountain soursop       0.48      0.32      0.38       103\n",
      "          myrtle       0.77      0.71      0.73        51\n",
      "       nectarine       0.79      0.42      0.55        26\n",
      "          orange       0.81      0.47      0.59       162\n",
      "           paddy       0.92      0.79      0.85        70\n",
      "          papaya       0.84      0.76      0.80       182\n",
      "   passion fruit       0.71      0.75      0.73       164\n",
      "             pea       0.86      0.89      0.87       141\n",
      "          peanut       0.47      0.85      0.60        86\n",
      "            pear       0.59      0.77      0.67       202\n",
      "     peper chili       0.97      0.70      0.81        80\n",
      "       persimmon       0.71      0.82      0.76       195\n",
      "       pineapple       0.81      0.85      0.83       183\n",
      "     pomegranate       0.59      0.73      0.65       102\n",
      "          pomelo       0.45      0.78      0.57       282\n",
      "         pumpkin       0.67      0.66      0.67        47\n",
      "          quince       0.43      0.52      0.47       106\n",
      "        rambutan       0.89      0.88      0.88       213\n",
      "       raspberry       0.72      0.68      0.70       225\n",
      "    ridged gourd       0.56      0.57      0.57       101\n",
      "      rose apple       0.89      0.77      0.82       286\n",
      "       sapodilla       0.65      0.79      0.72       203\n",
      "        soybeans       1.00      0.66      0.80        80\n",
      "         spinach       0.72      0.64      0.68        80\n",
      "      strawberry       0.70      0.92      0.79       152\n",
      "  sweet potatoes       0.73      0.76      0.74        80\n",
      "       tangerine       0.42      0.74      0.53       219\n",
      "         tobacco       0.96      0.56      0.71        80\n",
      "          tomato       0.70      0.77      0.73       100\n",
      "         vanilla       0.67      0.83      0.74       101\n",
      "      watermelon       0.80      0.87      0.83        99\n",
      "           wongi       0.70      0.50      0.58       100\n",
      "        zucchini       0.57      0.79      0.66       101\n",
      "\n",
      "        accuracy                           0.68     12459\n",
      "       macro avg       0.70      0.65      0.66     12459\n",
      "    weighted avg       0.70      0.68      0.67     12459\n",
      "\n"
     ]
    }
   ],
   "source": [
    "from sklearn.metrics import classification_report, accuracy_score\n",
    "\n",
    "# Bước 1: Lấy nhãn thực tế và dự đoán\n",
    "test_generator.reset()  # Đảm bảo thứ tự dự đoán đúng với dữ liệu\n",
    "y_true = test_generator.classes  # Lấy nhãn thực tế\n",
    "y_pred_prob = model.predict(test_generator, steps=test_generator.samples // batch_size + 1)\n",
    "y_pred = y_pred_prob.argmax(axis=1)  # Lấy nhãn dự đoán\n",
    "\n",
    "# Bước 2: Tính các giá trị đánh giá\n",
    "accuracy = accuracy_score(y_true, y_pred)\n",
    "report = classification_report(y_true, y_pred, target_names=test_generator.class_indices.keys())\n",
    "\n",
    "# In kết quả\n",
    "print(f\"Accuracy: {accuracy}\")\n",
    "print(\"\\nClassification Report:\")\n",
    "print(report)\n"
   ]
  },
  {
   "cell_type": "code",
   "execution_count": 6,
   "metadata": {},
   "outputs": [
    {
     "name": "stderr",
     "output_type": "stream",
     "text": [
      "d:\\Graduation\\Project\\project_venv\\Lib\\site-packages\\keras\\src\\trainers\\data_adapters\\py_dataset_adapter.py:121: UserWarning: Your `PyDataset` class should call `super().__init__(**kwargs)` in its constructor. `**kwargs` can include `workers`, `use_multiprocessing`, `max_queue_size`. Do not pass these arguments to `fit()`, as they will be ignored.\n",
      "  self._warn_if_super_not_called()\n"
     ]
    },
    {
     "name": "stdout",
     "output_type": "stream",
     "text": [
      "\u001b[1m125/125\u001b[0m \u001b[32m━━━━━━━━━━━━━━━━━━━━\u001b[0m\u001b[37m\u001b[0m \u001b[1m156s\u001b[0m 1s/step\n",
      "Accuracy: 0.6755758889156434\n",
      "Precision: 0.7004502061647375\n",
      "Recall: 0.6755758889156434\n",
      "F1: 0.6742922460130747\n"
     ]
    }
   ],
   "source": [
    "from sklearn.metrics import precision_score, recall_score, f1_score, accuracy_score\n",
    "\n",
    "# Bước 1: Lấy nhãn thực tế và dự đoán\n",
    "test_generator.reset()  # Đảm bảo thứ tự dự đoán đúng với dữ liệu\n",
    "y_true = test_generator.classes  # Lấy nhãn thực tế\n",
    "y_pred_prob = model.predict(test_generator, steps=test_generator.samples // batch_size + 1)\n",
    "y_pred = y_pred_prob.argmax(axis=1)  # Lấy nhãn dự đoán\n",
    "\n",
    "# Bước 2: Tính các giá trị đánh giá\n",
    "accuracy = accuracy_score(y_true, y_pred)\n",
    "precision = precision_score(y_true, y_pred, average='weighted')\n",
    "recall = recall_score(y_true, y_pred, average='weighted')\n",
    "f1 = f1_score(y_true, y_pred, average='weighted')\n",
    "\n",
    "# In kết quả\n",
    "print(f\"Accuracy: {accuracy}\")\n",
    "print(f\"Precision: {precision}\")\n",
    "print(f\"Recall: {recall}\")\n",
    "print(f\"F1: {f1}\")"
   ]
  }
 ],
 "metadata": {
  "kernelspec": {
   "display_name": "project_venv",
   "language": "python",
   "name": "python3"
  },
  "language_info": {
   "codemirror_mode": {
    "name": "ipython",
    "version": 3
   },
   "file_extension": ".py",
   "mimetype": "text/x-python",
   "name": "python",
   "nbconvert_exporter": "python",
   "pygments_lexer": "ipython3",
   "version": "3.11.9"
  }
 },
 "nbformat": 4,
 "nbformat_minor": 2
}
